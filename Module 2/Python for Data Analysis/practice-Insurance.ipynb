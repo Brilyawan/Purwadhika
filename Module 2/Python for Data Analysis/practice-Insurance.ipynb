{
 "cells": [
  {
   "cell_type": "code",
   "execution_count": 242,
   "metadata": {},
   "outputs": [],
   "source": [
    "# Importing library\n",
    "import pandas as pd\n",
    "\n",
    "# Set maximum columns width\n",
    "pd.options.display.max_colwidth = 200\n",
    "\n",
    "# Load the dataset\n",
    "URL = 'https://drive.google.com/uc?id=1Cw74EdOP8ewFf08H7X5QIDi9VXQmwZ-F'\n",
    "raw_data = pd.read_csv(URL, engine='pyarrow', parse_dates=['DateOfBirth', 'claim_date'])\n",
    "\n",
    "# Copy the dataset\n",
    "df = raw_data.copy()"
   ]
  },
  {
   "cell_type": "markdown",
   "metadata": {},
   "source": [
    "### QUESTION #1 \n",
    "\n",
    "Perform a data audit for the datatypes and find out if there are any mismatch within the current datatypes of the columns and their business significance."
   ]
  },
  {
   "cell_type": "code",
   "execution_count": 243,
   "metadata": {},
   "outputs": [
    {
     "name": "stdout",
     "output_type": "stream",
     "text": [
      "Jumlah baris dan kolom: (1085, 17)\n"
     ]
    },
    {
     "data": {
      "text/html": [
       "<div>\n",
       "<style scoped>\n",
       "    .dataframe tbody tr th:only-of-type {\n",
       "        vertical-align: middle;\n",
       "    }\n",
       "\n",
       "    .dataframe tbody tr th {\n",
       "        vertical-align: top;\n",
       "    }\n",
       "\n",
       "    .dataframe thead th {\n",
       "        text-align: right;\n",
       "    }\n",
       "</style>\n",
       "<table border=\"1\" class=\"dataframe\">\n",
       "  <thead>\n",
       "    <tr style=\"text-align: right;\">\n",
       "      <th></th>\n",
       "      <th>Name</th>\n",
       "      <th>Type</th>\n",
       "      <th>N/A (%)</th>\n",
       "      <th>Unique</th>\n",
       "      <th>Sample</th>\n",
       "    </tr>\n",
       "  </thead>\n",
       "  <tbody>\n",
       "    <tr>\n",
       "      <th>0</th>\n",
       "      <td>CUST_ID</td>\n",
       "      <td>int64</td>\n",
       "      <td>0.000000</td>\n",
       "      <td>1078</td>\n",
       "      <td>[21868593, 75740424, 30308357, 47830476, 19269962, 21831191, 18401412, 73486606, 32813689, 33507197, 99103685, 51583214, 35875366, 21240703, 18288638, 63240241, 1407979, 63916778, 17004138, 966776...</td>\n",
       "    </tr>\n",
       "    <tr>\n",
       "      <th>1</th>\n",
       "      <td>gender</td>\n",
       "      <td>object</td>\n",
       "      <td>0.000000</td>\n",
       "      <td>2</td>\n",
       "      <td>[Female, Male]</td>\n",
       "    </tr>\n",
       "    <tr>\n",
       "      <th>2</th>\n",
       "      <td>DateOfBirth</td>\n",
       "      <td>datetime64[ns]</td>\n",
       "      <td>0.000000</td>\n",
       "      <td>1078</td>\n",
       "      <td>[1979-01-12T00:00:00.000000000, 2070-01-13T00:00:00.000000000, 1984-03-11T00:00:00.000000000, 1986-05-01T00:00:00.000000000, 1977-05-13T00:00:00.000000000, 1977-05-17T00:00:00.000000000, 1999-03-0...</td>\n",
       "    </tr>\n",
       "    <tr>\n",
       "      <th>3</th>\n",
       "      <td>State</td>\n",
       "      <td>object</td>\n",
       "      <td>0.000000</td>\n",
       "      <td>50</td>\n",
       "      <td>[VT, ME, TN, MA, NV, NH, AR, AK, ID, RI, KY, MD, MI, IL, WA, SC, OK, KS, CT, IN, UT, AZ, IA, NM, WI, WY, NY, LA, DE, GA, OH, SD, WV, NJ, TX, CA, NC, MT, VA, OR, AL, HI, ND, MN, MO, CO, FL, NE, MS,...</td>\n",
       "    </tr>\n",
       "    <tr>\n",
       "      <th>4</th>\n",
       "      <td>Contact</td>\n",
       "      <td>object</td>\n",
       "      <td>0.000000</td>\n",
       "      <td>1078</td>\n",
       "      <td>[789-916-8172, 265-543-1264, 798-631-4758, 413-187-7945, 956-871-8691, 419-712-8513, 752-398-2914, 256-968-9172, 142-324-7481, 165-519-4583, 764-439-9856, 743-486-5264, 954-964-1746, 473-561-2675,...</td>\n",
       "    </tr>\n",
       "    <tr>\n",
       "      <th>5</th>\n",
       "      <td>Segment</td>\n",
       "      <td>object</td>\n",
       "      <td>0.000000</td>\n",
       "      <td>3</td>\n",
       "      <td>[Platinum, Silver, Gold]</td>\n",
       "    </tr>\n",
       "    <tr>\n",
       "      <th>6</th>\n",
       "      <td>claim_id</td>\n",
       "      <td>int64</td>\n",
       "      <td>0.000000</td>\n",
       "      <td>1085</td>\n",
       "      <td>[54004764, 33985796, 53522022, 63017412, 13015401, 91609100, 22890252, 39219616, 24050443, 91475471, 12878692, 27026412, 43908336, 63246959, 74165873, 28564401, 72738047, 53780662, 67257404, 35489...</td>\n",
       "    </tr>\n",
       "    <tr>\n",
       "      <th>7</th>\n",
       "      <td>customer_id</td>\n",
       "      <td>int64</td>\n",
       "      <td>0.000000</td>\n",
       "      <td>1078</td>\n",
       "      <td>[21868593, 75740424, 30308357, 47830476, 19269962, 21831191, 18401412, 73486606, 32813689, 33507197, 99103685, 51583214, 35875366, 21240703, 18288638, 63240241, 1407979, 63916778, 17004138, 966776...</td>\n",
       "    </tr>\n",
       "    <tr>\n",
       "      <th>8</th>\n",
       "      <td>incident_cause</td>\n",
       "      <td>object</td>\n",
       "      <td>0.000000</td>\n",
       "      <td>5</td>\n",
       "      <td>[Driver error, Crime, Other driver error, Natural causes, Other causes]</td>\n",
       "    </tr>\n",
       "    <tr>\n",
       "      <th>9</th>\n",
       "      <td>claim_date</td>\n",
       "      <td>datetime64[ns]</td>\n",
       "      <td>0.000000</td>\n",
       "      <td>100</td>\n",
       "      <td>[2017-11-27T00:00:00.000000000, 2018-10-03T00:00:00.000000000, 2018-02-02T00:00:00.000000000, 2018-04-04T00:00:00.000000000, 2018-06-17T00:00:00.000000000, 2017-04-12T00:00:00.000000000, 2018-01-1...</td>\n",
       "    </tr>\n",
       "    <tr>\n",
       "      <th>10</th>\n",
       "      <td>claim_area</td>\n",
       "      <td>object</td>\n",
       "      <td>0.000000</td>\n",
       "      <td>2</td>\n",
       "      <td>[Auto, Home]</td>\n",
       "    </tr>\n",
       "    <tr>\n",
       "      <th>11</th>\n",
       "      <td>police_report</td>\n",
       "      <td>object</td>\n",
       "      <td>0.000000</td>\n",
       "      <td>3</td>\n",
       "      <td>[No, Unknown, Yes]</td>\n",
       "    </tr>\n",
       "    <tr>\n",
       "      <th>12</th>\n",
       "      <td>claim_type</td>\n",
       "      <td>object</td>\n",
       "      <td>0.000000</td>\n",
       "      <td>3</td>\n",
       "      <td>[Material only, Injury only, Material and injury]</td>\n",
       "    </tr>\n",
       "    <tr>\n",
       "      <th>13</th>\n",
       "      <td>claim_amount</td>\n",
       "      <td>object</td>\n",
       "      <td>0.000000</td>\n",
       "      <td>677</td>\n",
       "      <td>[$2980, $3369.5, $1950, $1680, $1440, $2680, $2240, $38306.5, $36810, $1730, $1160, $2620, $2748.5, $1495, $16690, $1870, $1050, $32560, $2870, $3208.5, $17800, $31380, $36190, , $1010, $16830, $1...</td>\n",
       "    </tr>\n",
       "    <tr>\n",
       "      <th>14</th>\n",
       "      <td>total_policy_claims</td>\n",
       "      <td>float64</td>\n",
       "      <td>0.921659</td>\n",
       "      <td>8</td>\n",
       "      <td>[1.0, 3.0, 6.0, 2.0, 4.0, nan, 5.0, 7.0, 8.0]</td>\n",
       "    </tr>\n",
       "    <tr>\n",
       "      <th>15</th>\n",
       "      <td>fraudulent</td>\n",
       "      <td>object</td>\n",
       "      <td>0.000000</td>\n",
       "      <td>2</td>\n",
       "      <td>[No, Yes]</td>\n",
       "    </tr>\n",
       "    <tr>\n",
       "      <th>16</th>\n",
       "      <td>_merge</td>\n",
       "      <td>object</td>\n",
       "      <td>0.000000</td>\n",
       "      <td>1</td>\n",
       "      <td>[both]</td>\n",
       "    </tr>\n",
       "  </tbody>\n",
       "</table>\n",
       "</div>"
      ],
      "text/plain": [
       "                   Name            Type   N/A (%)  Unique  \\\n",
       "0               CUST_ID           int64  0.000000    1078   \n",
       "1                gender          object  0.000000       2   \n",
       "2           DateOfBirth  datetime64[ns]  0.000000    1078   \n",
       "3                 State          object  0.000000      50   \n",
       "4               Contact          object  0.000000    1078   \n",
       "5               Segment          object  0.000000       3   \n",
       "6              claim_id           int64  0.000000    1085   \n",
       "7           customer_id           int64  0.000000    1078   \n",
       "8        incident_cause          object  0.000000       5   \n",
       "9            claim_date  datetime64[ns]  0.000000     100   \n",
       "10           claim_area          object  0.000000       2   \n",
       "11        police_report          object  0.000000       3   \n",
       "12           claim_type          object  0.000000       3   \n",
       "13         claim_amount          object  0.000000     677   \n",
       "14  total_policy_claims         float64  0.921659       8   \n",
       "15           fraudulent          object  0.000000       2   \n",
       "16               _merge          object  0.000000       1   \n",
       "\n",
       "                                                                                                                                                                                                     Sample  \n",
       "0   [21868593, 75740424, 30308357, 47830476, 19269962, 21831191, 18401412, 73486606, 32813689, 33507197, 99103685, 51583214, 35875366, 21240703, 18288638, 63240241, 1407979, 63916778, 17004138, 966776...  \n",
       "1                                                                                                                                                                                            [Female, Male]  \n",
       "2   [1979-01-12T00:00:00.000000000, 2070-01-13T00:00:00.000000000, 1984-03-11T00:00:00.000000000, 1986-05-01T00:00:00.000000000, 1977-05-13T00:00:00.000000000, 1977-05-17T00:00:00.000000000, 1999-03-0...  \n",
       "3   [VT, ME, TN, MA, NV, NH, AR, AK, ID, RI, KY, MD, MI, IL, WA, SC, OK, KS, CT, IN, UT, AZ, IA, NM, WI, WY, NY, LA, DE, GA, OH, SD, WV, NJ, TX, CA, NC, MT, VA, OR, AL, HI, ND, MN, MO, CO, FL, NE, MS,...  \n",
       "4   [789-916-8172, 265-543-1264, 798-631-4758, 413-187-7945, 956-871-8691, 419-712-8513, 752-398-2914, 256-968-9172, 142-324-7481, 165-519-4583, 764-439-9856, 743-486-5264, 954-964-1746, 473-561-2675,...  \n",
       "5                                                                                                                                                                                  [Platinum, Silver, Gold]  \n",
       "6   [54004764, 33985796, 53522022, 63017412, 13015401, 91609100, 22890252, 39219616, 24050443, 91475471, 12878692, 27026412, 43908336, 63246959, 74165873, 28564401, 72738047, 53780662, 67257404, 35489...  \n",
       "7   [21868593, 75740424, 30308357, 47830476, 19269962, 21831191, 18401412, 73486606, 32813689, 33507197, 99103685, 51583214, 35875366, 21240703, 18288638, 63240241, 1407979, 63916778, 17004138, 966776...  \n",
       "8                                                                                                                                   [Driver error, Crime, Other driver error, Natural causes, Other causes]  \n",
       "9   [2017-11-27T00:00:00.000000000, 2018-10-03T00:00:00.000000000, 2018-02-02T00:00:00.000000000, 2018-04-04T00:00:00.000000000, 2018-06-17T00:00:00.000000000, 2017-04-12T00:00:00.000000000, 2018-01-1...  \n",
       "10                                                                                                                                                                                             [Auto, Home]  \n",
       "11                                                                                                                                                                                       [No, Unknown, Yes]  \n",
       "12                                                                                                                                                        [Material only, Injury only, Material and injury]  \n",
       "13  [$2980, $3369.5, $1950, $1680, $1440, $2680, $2240, $38306.5, $36810, $1730, $1160, $2620, $2748.5, $1495, $16690, $1870, $1050, $32560, $2870, $3208.5, $17800, $31380, $36190, , $1010, $16830, $1...  \n",
       "14                                                                                                                                                            [1.0, 3.0, 6.0, 2.0, 4.0, nan, 5.0, 7.0, 8.0]  \n",
       "15                                                                                                                                                                                                [No, Yes]  \n",
       "16                                                                                                                                                                                                   [both]  "
      ]
     },
     "execution_count": 243,
     "metadata": {},
     "output_type": "execute_result"
    }
   ],
   "source": [
    "print(f'Jumlah baris dan kolom: {df.shape}')\n",
    "\n",
    "pd.DataFrame({\n",
    "    'Name': df.columns.values,\n",
    "    'Type': df.dtypes.values,\n",
    "    'N/A (%)': df.isna().mean().values * 100,\n",
    "    'Unique': df.nunique().values,\n",
    "    'Sample': [df[col].unique() for col in df.columns]\n",
    "})"
   ]
  },
  {
   "cell_type": "markdown",
   "metadata": {},
   "source": [
    "Standarize value"
   ]
  },
  {
   "cell_type": "code",
   "execution_count": 244,
   "metadata": {},
   "outputs": [],
   "source": [
    "df.replace('Other driver error', 'Driver error', inplace=True)"
   ]
  },
  {
   "cell_type": "markdown",
   "metadata": {},
   "source": [
    "Drop unnecessary columns"
   ]
  },
  {
   "cell_type": "code",
   "execution_count": 245,
   "metadata": {},
   "outputs": [],
   "source": [
    "unwantedColumns = ['CUST_ID', 'claim_id', '_merge']\n",
    "\n",
    "df.drop(columns=unwantedColumns, inplace=True)"
   ]
  },
  {
   "cell_type": "markdown",
   "metadata": {},
   "source": [
    "### QUESTION #2\n",
    "\n",
    "Convert the column claim_amount to numeric. Use the appropriate modules/attributes to remove the sign."
   ]
  },
  {
   "cell_type": "code",
   "execution_count": 246,
   "metadata": {},
   "outputs": [],
   "source": [
    "df['claim_amount'] = df['claim_amount'].str.replace('$' ,'', regex=True)\n",
    "df['claim_amount'] = pd.to_numeric(df['claim_amount'])"
   ]
  },
  {
   "cell_type": "markdown",
   "metadata": {},
   "source": [
    "### QUESTION #3 \n",
    "\n",
    "Of all the injury claims, some of them have gone unreported with the police. Create an alert flag (1,0) for all such claims."
   ]
  },
  {
   "cell_type": "code",
   "execution_count": 175,
   "metadata": {},
   "outputs": [],
   "source": [
    "import numpy as np\n",
    "\n",
    "df['flag'] = np.where(df.police_report == 'Unknown', 0, 1)"
   ]
  },
  {
   "cell_type": "markdown",
   "metadata": {},
   "source": [
    "### QUESTION #4\n",
    "\n",
    "Retain the most recent observation and delete any duplicated records in the data based on the customer ID column."
   ]
  },
  {
   "cell_type": "code",
   "execution_count": 176,
   "metadata": {},
   "outputs": [],
   "source": [
    "df.drop_duplicates(subset='customer_id', keep='last', inplace=True)"
   ]
  },
  {
   "cell_type": "markdown",
   "metadata": {},
   "source": [
    "### QUESTION #5 \n",
    "\n",
    "Check for missing values and impute the missing values with an appropriate value.(mean for continuous and mode for categorical)"
   ]
  },
  {
   "cell_type": "code",
   "execution_count": 255,
   "metadata": {},
   "outputs": [
    {
     "data": {
      "text/plain": [
       "gender                  0\n",
       "DateOfBirth             0\n",
       "State                   0\n",
       "Contact                 0\n",
       "Segment                 0\n",
       "customer_id             0\n",
       "incident_cause          0\n",
       "claim_date              0\n",
       "claim_area              0\n",
       "police_report           0\n",
       "claim_type              0\n",
       "claim_amount            0\n",
       "total_policy_claims    10\n",
       "fraudulent              0\n",
       "dtype: int64"
      ]
     },
     "execution_count": 255,
     "metadata": {},
     "output_type": "execute_result"
    }
   ],
   "source": [
    "df.isna().sum()"
   ]
  },
  {
   "cell_type": "code",
   "execution_count": 260,
   "metadata": {},
   "outputs": [],
   "source": [
    "df.fillna(value={\n",
    "    'total_policy_claims': df.total_policy_claims.mode()[0],\n",
    "    'claim_amount': df.claim_amount.mean()},\n",
    "    inplace=True\n",
    ")"
   ]
  },
  {
   "cell_type": "markdown",
   "metadata": {},
   "source": [
    "### QUESTION #6 \n",
    "\n",
    "Calculate the age of customers in years. Based on the age, categorize the customers :"
   ]
  },
  {
   "cell_type": "code",
   "execution_count": 268,
   "metadata": {},
   "outputs": [],
   "source": [
    "def catGroup(x):\n",
    "    if x < 18:\n",
    "        return 'Children'\n",
    "    elif 18 <= x < 30:\n",
    "        return 'Youth'\n",
    "    elif 30 <= x < 60:\n",
    "        return 'Adult'\n",
    "    else:\n",
    "        return 'Senior' \n",
    "    \n",
    "df['age'] = pd.to_datetime('today').year - df['DateOfBirth'].dt.year\n",
    "df['age'] = np.where(df.age < 0, df.age + 100, df.age)\n",
    "\n",
    "df['categorize'] = df['age'].apply(catGroup)"
   ]
  },
  {
   "cell_type": "markdown",
   "metadata": {},
   "source": [
    "### QUESTION #7 \n",
    "\n",
    "Show the monthly trend of the total amount that has been claimed by the customers."
   ]
  },
  {
   "cell_type": "code",
   "execution_count": 200,
   "metadata": {},
   "outputs": [
    {
     "data": {
      "text/html": [
       "<div>\n",
       "<style scoped>\n",
       "    .dataframe tbody tr th:only-of-type {\n",
       "        vertical-align: middle;\n",
       "    }\n",
       "\n",
       "    .dataframe tbody tr th {\n",
       "        vertical-align: top;\n",
       "    }\n",
       "\n",
       "    .dataframe thead th {\n",
       "        text-align: right;\n",
       "    }\n",
       "</style>\n",
       "<table border=\"1\" class=\"dataframe\">\n",
       "  <thead>\n",
       "    <tr style=\"text-align: right;\">\n",
       "      <th></th>\n",
       "      <th>claim_amount</th>\n",
       "    </tr>\n",
       "    <tr>\n",
       "      <th>claim_date</th>\n",
       "      <th></th>\n",
       "    </tr>\n",
       "  </thead>\n",
       "  <tbody>\n",
       "    <tr>\n",
       "      <th>1</th>\n",
       "      <td>1239658.5</td>\n",
       "    </tr>\n",
       "    <tr>\n",
       "      <th>2</th>\n",
       "      <td>1114535.5</td>\n",
       "    </tr>\n",
       "    <tr>\n",
       "      <th>3</th>\n",
       "      <td>1257741.5</td>\n",
       "    </tr>\n",
       "    <tr>\n",
       "      <th>4</th>\n",
       "      <td>1268950.5</td>\n",
       "    </tr>\n",
       "    <tr>\n",
       "      <th>5</th>\n",
       "      <td>1014447.5</td>\n",
       "    </tr>\n",
       "    <tr>\n",
       "      <th>6</th>\n",
       "      <td>1202340.0</td>\n",
       "    </tr>\n",
       "    <tr>\n",
       "      <th>7</th>\n",
       "      <td>1266800.5</td>\n",
       "    </tr>\n",
       "    <tr>\n",
       "      <th>8</th>\n",
       "      <td>873792.0</td>\n",
       "    </tr>\n",
       "    <tr>\n",
       "      <th>9</th>\n",
       "      <td>858183.0</td>\n",
       "    </tr>\n",
       "    <tr>\n",
       "      <th>10</th>\n",
       "      <td>1309625.0</td>\n",
       "    </tr>\n",
       "    <tr>\n",
       "      <th>11</th>\n",
       "      <td>576184.0</td>\n",
       "    </tr>\n",
       "    <tr>\n",
       "      <th>12</th>\n",
       "      <td>681751.0</td>\n",
       "    </tr>\n",
       "  </tbody>\n",
       "</table>\n",
       "</div>"
      ],
      "text/plain": [
       "            claim_amount\n",
       "claim_date              \n",
       "1              1239658.5\n",
       "2              1114535.5\n",
       "3              1257741.5\n",
       "4              1268950.5\n",
       "5              1014447.5\n",
       "6              1202340.0\n",
       "7              1266800.5\n",
       "8               873792.0\n",
       "9               858183.0\n",
       "10             1309625.0\n",
       "11              576184.0\n",
       "12              681751.0"
      ]
     },
     "execution_count": 200,
     "metadata": {},
     "output_type": "execute_result"
    }
   ],
   "source": [
    "df.groupby(df['claim_date'].dt.month).agg(func={'claim_amount': 'sum'})"
   ]
  },
  {
   "cell_type": "markdown",
   "metadata": {},
   "source": [
    "### QUESTION #8\n",
    "\n",
    "What is the total claim amount based on incident cause for all the claims that have been done at least 20 days prior to 1st of October, 2018."
   ]
  },
  {
   "cell_type": "code",
   "execution_count": 182,
   "metadata": {},
   "outputs": [
    {
     "data": {
      "text/html": [
       "<div>\n",
       "<style scoped>\n",
       "    .dataframe tbody tr th:only-of-type {\n",
       "        vertical-align: middle;\n",
       "    }\n",
       "\n",
       "    .dataframe tbody tr th {\n",
       "        vertical-align: top;\n",
       "    }\n",
       "\n",
       "    .dataframe thead th {\n",
       "        text-align: right;\n",
       "    }\n",
       "</style>\n",
       "<table border=\"1\" class=\"dataframe\">\n",
       "  <thead>\n",
       "    <tr style=\"text-align: right;\">\n",
       "      <th></th>\n",
       "      <th>claim_amount</th>\n",
       "    </tr>\n",
       "    <tr>\n",
       "      <th>incident_cause</th>\n",
       "      <th></th>\n",
       "    </tr>\n",
       "  </thead>\n",
       "  <tbody>\n",
       "    <tr>\n",
       "      <th>Crime</th>\n",
       "      <td>659430.0</td>\n",
       "    </tr>\n",
       "    <tr>\n",
       "      <th>Driver error</th>\n",
       "      <td>6280844.0</td>\n",
       "    </tr>\n",
       "    <tr>\n",
       "      <th>Natural causes</th>\n",
       "      <td>1200231.5</td>\n",
       "    </tr>\n",
       "    <tr>\n",
       "      <th>Other causes</th>\n",
       "      <td>3485619.0</td>\n",
       "    </tr>\n",
       "  </tbody>\n",
       "</table>\n",
       "</div>"
      ],
      "text/plain": [
       "                claim_amount\n",
       "incident_cause              \n",
       "Crime               659430.0\n",
       "Driver error       6280844.0\n",
       "Natural causes     1200231.5\n",
       "Other causes       3485619.0"
      ]
     },
     "execution_count": 182,
     "metadata": {},
     "output_type": "execute_result"
    }
   ],
   "source": [
    "import datetime as dt\n",
    "\n",
    "days_before = dt.datetime.strptime('2018-10-1', '%Y-%m-%d') - dt.timedelta(days=20)\n",
    "df[df.claim_date < days_before].groupby('incident_cause').agg(func={'claim_amount': 'sum'})"
   ]
  },
  {
   "cell_type": "markdown",
   "metadata": {},
   "source": [
    "### QUSETION #9 \n",
    "\n",
    "How many adults from TX, DE, and AK claimed insurance for driver related issues and causes?"
   ]
  },
  {
   "cell_type": "code",
   "execution_count": 283,
   "metadata": {},
   "outputs": [
    {
     "data": {
      "text/html": [
       "<div>\n",
       "<style scoped>\n",
       "    .dataframe tbody tr th:only-of-type {\n",
       "        vertical-align: middle;\n",
       "    }\n",
       "\n",
       "    .dataframe tbody tr th {\n",
       "        vertical-align: top;\n",
       "    }\n",
       "\n",
       "    .dataframe thead th {\n",
       "        text-align: right;\n",
       "    }\n",
       "</style>\n",
       "<table border=\"1\" class=\"dataframe\">\n",
       "  <thead>\n",
       "    <tr style=\"text-align: right;\">\n",
       "      <th></th>\n",
       "      <th>customer_id</th>\n",
       "    </tr>\n",
       "    <tr>\n",
       "      <th>incident_cause</th>\n",
       "      <th></th>\n",
       "    </tr>\n",
       "  </thead>\n",
       "  <tbody>\n",
       "    <tr>\n",
       "      <th>Crime</th>\n",
       "      <td>1</td>\n",
       "    </tr>\n",
       "    <tr>\n",
       "      <th>Driver error</th>\n",
       "      <td>28</td>\n",
       "    </tr>\n",
       "    <tr>\n",
       "      <th>Natural causes</th>\n",
       "      <td>12</td>\n",
       "    </tr>\n",
       "    <tr>\n",
       "      <th>Other causes</th>\n",
       "      <td>14</td>\n",
       "    </tr>\n",
       "  </tbody>\n",
       "</table>\n",
       "</div>"
      ],
      "text/plain": [
       "                customer_id\n",
       "incident_cause             \n",
       "Crime                     1\n",
       "Driver error             28\n",
       "Natural causes           12\n",
       "Other causes             14"
      ]
     },
     "execution_count": 283,
     "metadata": {},
     "output_type": "execute_result"
    }
   ],
   "source": [
    "mask = (df.State.isin(['TX', 'DE', 'AK'])) & (df.categorize == 'Adult')\n",
    "\n",
    "df[mask].groupby('incident_cause').agg(func={'customer_id': 'count'})"
   ]
  },
  {
   "cell_type": "markdown",
   "metadata": {},
   "source": [
    "### QUESTION #10\n",
    "\n",
    "What is the average amount claimed by the customers from various segments?"
   ]
  },
  {
   "cell_type": "code",
   "execution_count": 184,
   "metadata": {},
   "outputs": [
    {
     "data": {
      "text/html": [
       "<div>\n",
       "<style scoped>\n",
       "    .dataframe tbody tr th:only-of-type {\n",
       "        vertical-align: middle;\n",
       "    }\n",
       "\n",
       "    .dataframe tbody tr th {\n",
       "        vertical-align: top;\n",
       "    }\n",
       "\n",
       "    .dataframe thead th {\n",
       "        text-align: right;\n",
       "    }\n",
       "</style>\n",
       "<table border=\"1\" class=\"dataframe\">\n",
       "  <thead>\n",
       "    <tr style=\"text-align: right;\">\n",
       "      <th></th>\n",
       "      <th>claim_amount</th>\n",
       "    </tr>\n",
       "    <tr>\n",
       "      <th>Segment</th>\n",
       "      <th></th>\n",
       "    </tr>\n",
       "  </thead>\n",
       "  <tbody>\n",
       "    <tr>\n",
       "      <th>Gold</th>\n",
       "      <td>12868.127507</td>\n",
       "    </tr>\n",
       "    <tr>\n",
       "      <th>Platinum</th>\n",
       "      <td>12366.015896</td>\n",
       "    </tr>\n",
       "    <tr>\n",
       "      <th>Silver</th>\n",
       "      <td>12246.512579</td>\n",
       "    </tr>\n",
       "  </tbody>\n",
       "</table>\n",
       "</div>"
      ],
      "text/plain": [
       "          claim_amount\n",
       "Segment               \n",
       "Gold      12868.127507\n",
       "Platinum  12366.015896\n",
       "Silver    12246.512579"
      ]
     },
     "execution_count": 184,
     "metadata": {},
     "output_type": "execute_result"
    }
   ],
   "source": [
    "df.groupby('Segment').agg(func={'claim_amount': 'mean'})"
   ]
  },
  {
   "cell_type": "markdown",
   "metadata": {},
   "source": [
    "### QUESTION #11\n",
    "\n",
    "What is the average claim amount for gender and age categories?"
   ]
  },
  {
   "cell_type": "code",
   "execution_count": 185,
   "metadata": {},
   "outputs": [
    {
     "data": {
      "text/html": [
       "<div>\n",
       "<style scoped>\n",
       "    .dataframe tbody tr th:only-of-type {\n",
       "        vertical-align: middle;\n",
       "    }\n",
       "\n",
       "    .dataframe tbody tr th {\n",
       "        vertical-align: top;\n",
       "    }\n",
       "\n",
       "    .dataframe thead th {\n",
       "        text-align: right;\n",
       "    }\n",
       "</style>\n",
       "<table border=\"1\" class=\"dataframe\">\n",
       "  <thead>\n",
       "    <tr style=\"text-align: right;\">\n",
       "      <th></th>\n",
       "      <th></th>\n",
       "      <th>claim_amount</th>\n",
       "    </tr>\n",
       "    <tr>\n",
       "      <th>gender</th>\n",
       "      <th>categorize</th>\n",
       "      <th></th>\n",
       "    </tr>\n",
       "  </thead>\n",
       "  <tbody>\n",
       "    <tr>\n",
       "      <th rowspan=\"3\" valign=\"top\">Female</th>\n",
       "      <th>Adult</th>\n",
       "      <td>12769.190860</td>\n",
       "    </tr>\n",
       "    <tr>\n",
       "      <th>Senior</th>\n",
       "      <td>9030.641667</td>\n",
       "    </tr>\n",
       "    <tr>\n",
       "      <th>Youth</th>\n",
       "      <td>10947.636364</td>\n",
       "    </tr>\n",
       "    <tr>\n",
       "      <th rowspan=\"3\" valign=\"top\">Male</th>\n",
       "      <th>Adult</th>\n",
       "      <td>12987.822539</td>\n",
       "    </tr>\n",
       "    <tr>\n",
       "      <th>Senior</th>\n",
       "      <td>12323.031250</td>\n",
       "    </tr>\n",
       "    <tr>\n",
       "      <th>Youth</th>\n",
       "      <td>13038.676923</td>\n",
       "    </tr>\n",
       "  </tbody>\n",
       "</table>\n",
       "</div>"
      ],
      "text/plain": [
       "                   claim_amount\n",
       "gender categorize              \n",
       "Female Adult       12769.190860\n",
       "       Senior       9030.641667\n",
       "       Youth       10947.636364\n",
       "Male   Adult       12987.822539\n",
       "       Senior      12323.031250\n",
       "       Youth       13038.676923"
      ]
     },
     "execution_count": 185,
     "metadata": {},
     "output_type": "execute_result"
    }
   ],
   "source": [
    "df.groupby(['gender', 'categorize']).agg(func={'claim_amount': 'mean'})"
   ]
  },
  {
   "cell_type": "markdown",
   "metadata": {},
   "source": [
    "### QUESTION #12\n",
    "\n",
    "Which age group had the maximum fraudulent policy claims?"
   ]
  },
  {
   "cell_type": "code",
   "execution_count": 229,
   "metadata": {},
   "outputs": [
    {
     "data": {
      "text/html": [
       "<div>\n",
       "<style scoped>\n",
       "    .dataframe tbody tr th:only-of-type {\n",
       "        vertical-align: middle;\n",
       "    }\n",
       "\n",
       "    .dataframe tbody tr th {\n",
       "        vertical-align: top;\n",
       "    }\n",
       "\n",
       "    .dataframe thead th {\n",
       "        text-align: right;\n",
       "    }\n",
       "</style>\n",
       "<table border=\"1\" class=\"dataframe\">\n",
       "  <thead>\n",
       "    <tr style=\"text-align: right;\">\n",
       "      <th></th>\n",
       "      <th>total_policy_claims</th>\n",
       "    </tr>\n",
       "    <tr>\n",
       "      <th>categorize</th>\n",
       "      <th></th>\n",
       "    </tr>\n",
       "  </thead>\n",
       "  <tbody>\n",
       "    <tr>\n",
       "      <th>Adult</th>\n",
       "      <td>184</td>\n",
       "    </tr>\n",
       "    <tr>\n",
       "      <th>Senior</th>\n",
       "      <td>35</td>\n",
       "    </tr>\n",
       "    <tr>\n",
       "      <th>Youth</th>\n",
       "      <td>25</td>\n",
       "    </tr>\n",
       "  </tbody>\n",
       "</table>\n",
       "</div>"
      ],
      "text/plain": [
       "            total_policy_claims\n",
       "categorize                     \n",
       "Adult                       184\n",
       "Senior                       35\n",
       "Youth                        25"
      ]
     },
     "execution_count": 229,
     "metadata": {},
     "output_type": "execute_result"
    }
   ],
   "source": [
    "mask = df['fraudulent'] == 'Yes'\n",
    "\n",
    "df[mask].groupby('categorize').agg(func={'total_policy_claims': 'count'})"
   ]
  },
  {
   "cell_type": "markdown",
   "metadata": {},
   "source": [
    "### QUESTION #13\n",
    "\n",
    "Among males and females, which gender had claimed the most for any type of driver related issues?"
   ]
  },
  {
   "cell_type": "code",
   "execution_count": 188,
   "metadata": {},
   "outputs": [
    {
     "data": {
      "text/html": [
       "<div>\n",
       "<style scoped>\n",
       "    .dataframe tbody tr th:only-of-type {\n",
       "        vertical-align: middle;\n",
       "    }\n",
       "\n",
       "    .dataframe tbody tr th {\n",
       "        vertical-align: top;\n",
       "    }\n",
       "\n",
       "    .dataframe thead th {\n",
       "        text-align: right;\n",
       "    }\n",
       "</style>\n",
       "<table border=\"1\" class=\"dataframe\">\n",
       "  <thead>\n",
       "    <tr style=\"text-align: right;\">\n",
       "      <th></th>\n",
       "      <th>claim_amount</th>\n",
       "    </tr>\n",
       "    <tr>\n",
       "      <th>gender</th>\n",
       "      <th></th>\n",
       "    </tr>\n",
       "  </thead>\n",
       "  <tbody>\n",
       "    <tr>\n",
       "      <th>Female</th>\n",
       "      <td>208</td>\n",
       "    </tr>\n",
       "    <tr>\n",
       "      <th>Male</th>\n",
       "      <td>264</td>\n",
       "    </tr>\n",
       "  </tbody>\n",
       "</table>\n",
       "</div>"
      ],
      "text/plain": [
       "        claim_amount\n",
       "gender              \n",
       "Female           208\n",
       "Male             264"
      ]
     },
     "execution_count": 188,
     "metadata": {},
     "output_type": "execute_result"
    }
   ],
   "source": [
    "mask = df['incident_cause'] == 'Driver error'\n",
    "\n",
    "df[mask].groupby('gender').agg(func={'claim_amount': 'count'})"
   ]
  }
 ],
 "metadata": {
  "kernelspec": {
   "display_name": "Python 3",
   "language": "python",
   "name": "python3"
  },
  "language_info": {
   "codemirror_mode": {
    "name": "ipython",
    "version": 3
   },
   "file_extension": ".py",
   "mimetype": "text/x-python",
   "name": "python",
   "nbconvert_exporter": "python",
   "pygments_lexer": "ipython3",
   "version": "3.9.16"
  }
 },
 "nbformat": 4,
 "nbformat_minor": 2
}
