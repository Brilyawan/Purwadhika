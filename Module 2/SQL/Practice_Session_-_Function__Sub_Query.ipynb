/********************************************************
* QUESTION #1
*********************************************************/
USE guitar_shop;

#1
SELECT 
	card_number, 
	LENGTH(card_number) AS length_card, 
    RIGHT(card_number, 4) AS masked_card
FROM orders;

#2
SELECT 
	order_id, 
    order_date,
    ship_date,
	DATE_ADD(order_date, INTERVAL 2 DAY) AS approx_ship_date,
	DATEDIFF(ship_date, order_date) AS days_to_ship
FROM orders
WHERE MONTH(order_date) = 4 AND YEAR(order_date) = 2015;

#3
SELECT product_name, list_price
FROM products 
WHERE list_price > 
	(SELECT AVG(list_price) FROM products)
ORDER BY list_price DESC;

#4
SELECT category_name
FROM categories
WHERE NOT EXISTS 
	(SELECT *
    FROM products
    WHERE category_id = categories.category_id);
    
/********************************************************
* QUESTION #2
*********************************************************/
USE sakila;

#1
SELECT first_name, last_name
FROM actor
WHERE last_name LIKE '%LI%'
ORDER BY last_name DESC, first_name DESC;

#2
SELECT last_name, COUNT(last_name) AS total
FROM actor
GROUP BY last_name
HAVING COUNT(last_name) >= 2;

#3
SELECT title
FROM film
WHERE title LIKE 'K%'AND language_id IN 
(SELECT language_id FROM language WHERE name = 'English');
            
#4
SELECT *
FROM actor
WHERE actor_id IN 
(SELECT actor_id FROM film_actor WHERE film_id IN 
(SELECT film_id FROM film WHERE title = 'Alien Center')
);

/********************************************************
* QUESTION #3
*********************************************************/
USE world;

#1
SELECT name, continent
FROM country
WHERE continent IN (SELECT continent FROM country 
WHERE name IN ('Spain' , 'Australia'))
ORDER BY name;

#2
SELECT name,
    CONCAT(ROUND(population / (SELECT population FROM country WHERE name = 'Germany') * 100,
                    0),
            '%') AS pop_percentage
FROM country
WHERE continent = 'Europe';

#3
SELECT name
FROM country
WHERE gnp > ALL (SELECT gnp FROM country WHERE gnp > 0 AND continent = 'Asia');

#4 
SELECT name, continent
FROM country AS x
WHERE population > ALL (SELECT 3 * population FROM country AS y 
	WHERE x.continent = y.continent AND x.name != y.name);

/********************************************************
* QUESTION #4
*********************************************************/
USE employees;

#1
SELECT emp_no, first_name, last_name
FROM employees
WHERE emp_no = (SELECT emp_no FROM salaries 
	GROUP BY emp_no ORDER BY MAX(salary) DESC LIMIT 1);
    
#2
SELECT gender, COUNT(gender) AS Total
FROM employees
GROUP BY gender
ORDER BY Total DESC;

#3
SELECT YEAR(hire_date) AS hired_year, COUNT(hire_date) AS employees_count
FROM employees
GROUP BY YEAR(hire_date)
ORDER BY 1;

#4
SELECT MONTHNAME(hire_date), COUNT(*) AS total_hire
FROM employees
GROUP BY MONTHNAME(hire_date)
ORDER BY total_hire DESC
LIMIT 1;

#5
SELECT CONCAT(first_name, ' ', last_name) AS name, hire_date
FROM employees
WHERE YEAR(hire_date) = 1999 AND MONTH(hire_date) = 1;

