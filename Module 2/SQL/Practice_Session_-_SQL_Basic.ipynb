/********************************************************
* QUESTION #1
*********************************************************/

# Create Database
DROP DATABASE IF EXISTS my_web_db;
CREATE DATABASE IF NOT EXISTS my_web_db;
USE my_web_db;

# Create users table
DROP TABLE IF EXISTS users;
CREATE TABLE IF NOT EXISTS users
(
  user_id INT PRIMARY KEY AUTO_INCREMENT,
  first_name VARCHAR(45),
  last_name VARCHAR(45),
  email_address VARCHAR(100)
);

# Create products table
DROP TABLE IF EXISTS products;
CREATE TABLE IF NOT EXISTS products
(
  product_id INT PRIMARY KEY AUTO_INCREMENT,
  product_name VARCHAR(45)
);

# Create downloads table
DROP TABLE IF EXISTS downloads;
CREATE TABLE IF NOT EXISTS downloads
(
  download_id INT PRIMARY KEY AUTO_INCREMENT,
  user_id INT NOT NULL,
  download_date DATETIME,
  filename VARCHAR(50),
  product_id INT NOT NULL,
  FOREIGN KEY (user_id) REFERENCES users (user_id),
  FOREIGN KEY (product_id) REFERENCES products (product_id)
);

#1
INSERT INTO users VALUES 
	(DEFAULT, 'Andrew', 'Smith', 'andrewsmith@gmail.com'),
    (DEFAULT, 'Jane', 'Doe', 'janedoe@gmail.com');

INSERT INTO products VALUES 
	(DEFAULT, 'ABC'),
    (DEFAULT, 'XYZ');
    
INSERT INTO downloads VALUES 
	(DEFAULT, 1, NOW(), 'filename1', 2),
	(DEFAULT, 2, NOW(), 'filename2', 1),
    (DEFAULT, 2, NOW(), 'filename3', 2);
    
#2
ALTER TABLE products
  ADD price DECIMAL(5, 2) DEFAULT 9.99,
  ADD stock_date DATETIME NOT NULL DEFAULT NOW();

#3
ALTER TABLE users
  MODIFY first_name VARCHAR(20) NOT NULL;
    
    
/********************************************************
* QUESTION #2
*********************************************************/

USE guitar_shop;

#1
INSERT INTO categories VALUES 
	(DEFAULT, 'Brass');

#2
UPDATE categories
SET category_name = 'Woodwinds'
WHERE category_name = 'Brass';

#3
DELETE FROM categories
WHERE category_id = 5;

#4
INSERT INTO products VALUES 
	(DEFAULT, 4, 'dgx_640', 'Yamaha DGX 640 88-Key Digital Piano', 'Long description to come', 799.99, 0, NOW());

#5
UPDATE products 
SET discount_percent = 35
WHERE product_id = 11;

#6
SELECT 
	product_code, 
    product_name, 
    list_price, 
    discount_percent
FROM products;

#7
SELECT CONCAT(first_name,' ', last_name) AS full_name
FROM customers
WHERE last_name >= 'M'
ORDER BY last_name;
    
#8
SELECT 
	product_name, 
    list_price, 
    date_added
FROM products
WHERE list_price > 500 AND list_price < 2000
ORDER BY date_added DESC;

#9
SELECT 
	product_name, 
	list_price, 
    discount_percent, 
	ROUND((list_price * discount_percent)/100, 2) AS discount_amount, 
    ROUND(list_price - (list_price * discount_percent)/100, 2) AS discount_price
FROM products
ORDER BY discount_price DESC
LIMIT 5;


/********************************************************
* QUESTION #3
*********************************************************/

USE world;

#1
SELECT COUNT(DISTINCT(name)) 
FROM country;

#2
SELECT COUNT(DISTINCT(language)) 
FROM countrylanguage;

#3
SELECT name, gnp 
FROM country 
WHERE continent = 'Asia' AND population > 100 * 10e5 
LIMIT 5;

#4
SELECT name, surfacearea 
FROM country 
WHERE continent = 'africa' AND surfacearea > 1.2 * 10e5; 

#5
SELECT Name 
FROM country 
WHERE continent = 'asia' AND governmentform = 'republic';

#6
SELECT COUNT(Name)
FROM country 
WHERE continent = 'Europe' AND indepyear < 1940;