{
 "cells": [
  {
   "attachments": {},
   "cell_type": "markdown",
   "metadata": {},
   "source": [
    "### **Step-0:** `Setup`"
   ]
  },
  {
   "attachments": {},
   "cell_type": "markdown",
   "metadata": {},
   "source": [
    "Impor pustaka yang dibutuhkan dalam analisis"
   ]
  },
  {
   "cell_type": "code",
   "execution_count": 61,
   "metadata": {},
   "outputs": [],
   "source": [
    "import random\n",
    "import pandas as pd \n",
    "import altair as alt\n",
    "\n",
    "import warnings\n",
    "warnings.filterwarnings('ignore')"
   ]
  },
  {
   "attachments": {},
   "cell_type": "markdown",
   "metadata": {},
   "source": [
    "Load data dan simpan dalam variabel `df` sebagai dataframe"
   ]
  },
  {
   "cell_type": "code",
   "execution_count": 62,
   "metadata": {},
   "outputs": [
    {
     "data": {
      "text/html": [
       "<div>\n",
       "<style scoped>\n",
       "    .dataframe tbody tr th:only-of-type {\n",
       "        vertical-align: middle;\n",
       "    }\n",
       "\n",
       "    .dataframe tbody tr th {\n",
       "        vertical-align: top;\n",
       "    }\n",
       "\n",
       "    .dataframe thead th {\n",
       "        text-align: right;\n",
       "    }\n",
       "</style>\n",
       "<table border=\"1\" class=\"dataframe\">\n",
       "  <thead>\n",
       "    <tr style=\"text-align: right;\">\n",
       "      <th></th>\n",
       "      <th>Invoice</th>\n",
       "      <th>StockCode</th>\n",
       "      <th>Description</th>\n",
       "      <th>Quantity</th>\n",
       "      <th>InvoiceDate</th>\n",
       "      <th>Price</th>\n",
       "      <th>Customer ID</th>\n",
       "      <th>Country</th>\n",
       "    </tr>\n",
       "  </thead>\n",
       "  <tbody>\n",
       "    <tr>\n",
       "      <th>86589</th>\n",
       "      <td>543555</td>\n",
       "      <td>21314</td>\n",
       "      <td>SMALL GLASS HEART TRINKET POT</td>\n",
       "      <td>8</td>\n",
       "      <td>2011-02-10 10:18:00</td>\n",
       "      <td>2.1</td>\n",
       "      <td>17686.0</td>\n",
       "      <td>United Kingdom</td>\n",
       "    </tr>\n",
       "  </tbody>\n",
       "</table>\n",
       "</div>"
      ],
      "text/plain": [
       "      Invoice StockCode                    Description  Quantity  \\\n",
       "86589  543555     21314  SMALL GLASS HEART TRINKET POT         8   \n",
       "\n",
       "              InvoiceDate  Price  Customer ID         Country  \n",
       "86589 2011-02-10 10:18:00    2.1      17686.0  United Kingdom  "
      ]
     },
     "execution_count": 62,
     "metadata": {},
     "output_type": "execute_result"
    }
   ],
   "source": [
    "raw = pd.read_excel('online retail.xlsx', sheet_name='Year 2010-2011')\n",
    "raw.sample()"
   ]
  },
  {
   "attachments": {},
   "cell_type": "markdown",
   "metadata": {},
   "source": [
    "### **Setup-1:** `Skimming Data`"
   ]
  },
  {
   "cell_type": "code",
   "execution_count": 63,
   "metadata": {},
   "outputs": [],
   "source": [
    "df = raw.copy()"
   ]
  },
  {
   "attachments": {},
   "cell_type": "markdown",
   "metadata": {},
   "source": [
    "Langkah awal, cek format data dan anomali:"
   ]
  },
  {
   "cell_type": "code",
   "execution_count": 64,
   "metadata": {},
   "outputs": [
    {
     "name": "stdout",
     "output_type": "stream",
     "text": [
      "Jumlah baris dan kolom: (541910, 8)\n"
     ]
    },
    {
     "data": {
      "text/html": [
       "<div>\n",
       "<style scoped>\n",
       "    .dataframe tbody tr th:only-of-type {\n",
       "        vertical-align: middle;\n",
       "    }\n",
       "\n",
       "    .dataframe tbody tr th {\n",
       "        vertical-align: top;\n",
       "    }\n",
       "\n",
       "    .dataframe thead th {\n",
       "        text-align: right;\n",
       "    }\n",
       "</style>\n",
       "<table border=\"1\" class=\"dataframe\">\n",
       "  <thead>\n",
       "    <tr style=\"text-align: right;\">\n",
       "      <th></th>\n",
       "      <th>feature</th>\n",
       "      <th>data_type</th>\n",
       "      <th>null_value</th>\n",
       "      <th>n_unique</th>\n",
       "      <th>sample_unique</th>\n",
       "    </tr>\n",
       "  </thead>\n",
       "  <tbody>\n",
       "    <tr>\n",
       "      <th>0</th>\n",
       "      <td>Invoice</td>\n",
       "      <td>object</td>\n",
       "      <td>0.000000</td>\n",
       "      <td>25900</td>\n",
       "      <td>[536365, 536366, 536368, 536367, 536369, 53637...</td>\n",
       "    </tr>\n",
       "    <tr>\n",
       "      <th>1</th>\n",
       "      <td>StockCode</td>\n",
       "      <td>object</td>\n",
       "      <td>0.000000</td>\n",
       "      <td>4070</td>\n",
       "      <td>[85123A, 71053, 84406B, 84029G, 84029E, 22752,...</td>\n",
       "    </tr>\n",
       "    <tr>\n",
       "      <th>2</th>\n",
       "      <td>Description</td>\n",
       "      <td>object</td>\n",
       "      <td>0.268310</td>\n",
       "      <td>4223</td>\n",
       "      <td>[WHITE HANGING HEART T-LIGHT HOLDER, WHITE MET...</td>\n",
       "    </tr>\n",
       "    <tr>\n",
       "      <th>3</th>\n",
       "      <td>Quantity</td>\n",
       "      <td>int64</td>\n",
       "      <td>0.000000</td>\n",
       "      <td>722</td>\n",
       "      <td>[6, 8, 2, 3, 32, 4, 24, 12, 48, 18, 20, 36, 80...</td>\n",
       "    </tr>\n",
       "    <tr>\n",
       "      <th>4</th>\n",
       "      <td>InvoiceDate</td>\n",
       "      <td>datetime64[ns]</td>\n",
       "      <td>0.000000</td>\n",
       "      <td>23260</td>\n",
       "      <td>[2010-12-01T08:26:00.000000000, 2010-12-01T08:...</td>\n",
       "    </tr>\n",
       "    <tr>\n",
       "      <th>5</th>\n",
       "      <td>Price</td>\n",
       "      <td>float64</td>\n",
       "      <td>0.000000</td>\n",
       "      <td>1630</td>\n",
       "      <td>[2.55, 3.39, 2.75, 7.65, 4.25, 1.85, 4.95, 1.6...</td>\n",
       "    </tr>\n",
       "    <tr>\n",
       "      <th>6</th>\n",
       "      <td>Customer ID</td>\n",
       "      <td>float64</td>\n",
       "      <td>24.926648</td>\n",
       "      <td>4372</td>\n",
       "      <td>[17850.0, 13047.0, 12583.0, 13748.0, 15100.0, ...</td>\n",
       "    </tr>\n",
       "    <tr>\n",
       "      <th>7</th>\n",
       "      <td>Country</td>\n",
       "      <td>object</td>\n",
       "      <td>0.000000</td>\n",
       "      <td>38</td>\n",
       "      <td>[United Kingdom, France, Australia, Netherland...</td>\n",
       "    </tr>\n",
       "  </tbody>\n",
       "</table>\n",
       "</div>"
      ],
      "text/plain": [
       "       feature       data_type  null_value  n_unique  \\\n",
       "0      Invoice          object    0.000000     25900   \n",
       "1    StockCode          object    0.000000      4070   \n",
       "2  Description          object    0.268310      4223   \n",
       "3     Quantity           int64    0.000000       722   \n",
       "4  InvoiceDate  datetime64[ns]    0.000000     23260   \n",
       "5        Price         float64    0.000000      1630   \n",
       "6  Customer ID         float64   24.926648      4372   \n",
       "7      Country          object    0.000000        38   \n",
       "\n",
       "                                       sample_unique  \n",
       "0  [536365, 536366, 536368, 536367, 536369, 53637...  \n",
       "1  [85123A, 71053, 84406B, 84029G, 84029E, 22752,...  \n",
       "2  [WHITE HANGING HEART T-LIGHT HOLDER, WHITE MET...  \n",
       "3  [6, 8, 2, 3, 32, 4, 24, 12, 48, 18, 20, 36, 80...  \n",
       "4  [2010-12-01T08:26:00.000000000, 2010-12-01T08:...  \n",
       "5  [2.55, 3.39, 2.75, 7.65, 4.25, 1.85, 4.95, 1.6...  \n",
       "6  [17850.0, 13047.0, 12583.0, 13748.0, 15100.0, ...  \n",
       "7  [United Kingdom, France, Australia, Netherland...  "
      ]
     },
     "execution_count": 64,
     "metadata": {},
     "output_type": "execute_result"
    }
   ],
   "source": [
    "print(f'Jumlah baris dan kolom: {df.shape}')\n",
    "\n",
    "pd.DataFrame(\n",
    "    {\n",
    "    'feature': df.columns.values,\n",
    "    'data_type': df.dtypes.values,\n",
    "    'null_value': df.isna().mean().values * 100,\n",
    "    'n_unique': df.nunique().values,\n",
    "    'sample_unique': [df[col].unique() for col in df.columns]\n",
    "    }\n",
    ")"
   ]
  },
  {
   "attachments": {},
   "cell_type": "markdown",
   "metadata": {},
   "source": [
    "__Insight :__\n",
    "\n",
    "* Data terdiri dari 541910 baris dan 8 kolom.\n",
    "* Missing value pada variabel `description` (25%) dan `customer id` (0.26%).\n",
    "* Tipe data variabel `customer id` tidak sesuai."
   ]
  },
  {
   "attachments": {},
   "cell_type": "markdown",
   "metadata": {},
   "source": [
    "### **Step-2:** `Data Cleaning`"
   ]
  },
  {
   "attachments": {},
   "cell_type": "markdown",
   "metadata": {},
   "source": [
    "Ubah tipe data dari kolom `Customer ID` menjadi integer."
   ]
  },
  {
   "cell_type": "code",
   "execution_count": 65,
   "metadata": {},
   "outputs": [],
   "source": [
    "df['Customer ID'] = df['Customer ID'].astype('Int64')"
   ]
  },
  {
   "cell_type": "markdown",
   "metadata": {},
   "source": [
    "Nilai negatif pada kolom `Quantity` bisa kita tangani dengan membuatnya positif"
   ]
  },
  {
   "cell_type": "code",
   "execution_count": 66,
   "metadata": {},
   "outputs": [],
   "source": [
    "df.Quantity = df.Quantity.apply(abs)"
   ]
  },
  {
   "attachments": {},
   "cell_type": "markdown",
   "metadata": {},
   "source": [
    "Nilai nol atau negative pada kolom `Price` kita tangani dengan memisahkannya"
   ]
  },
  {
   "cell_type": "code",
   "execution_count": 67,
   "metadata": {},
   "outputs": [],
   "source": [
    "df = df[df.Price > 0]"
   ]
  },
  {
   "attachments": {},
   "cell_type": "markdown",
   "metadata": {},
   "source": [
    "Missing value pada kolom `Description` bisa digantikan dengan string **OTHER**"
   ]
  },
  {
   "cell_type": "code",
   "execution_count": 68,
   "metadata": {},
   "outputs": [],
   "source": [
    "df.fillna({'Description': 'OTHER'}, inplace=True)"
   ]
  },
  {
   "cell_type": "markdown",
   "metadata": {},
   "source": [
    "Kita exclude kan barang dengan deskripsi yang tidak valid"
   ]
  },
  {
   "cell_type": "code",
   "execution_count": 69,
   "metadata": {},
   "outputs": [],
   "source": [
    "df = df[~df.Description.isin(['OTHER', 'Manual', 'check'])]"
   ]
  },
  {
   "cell_type": "markdown",
   "metadata": {},
   "source": [
    "Kita pisahkan untuk dataframe dengan nan value simpan dalam `df2`"
   ]
  },
  {
   "cell_type": "code",
   "execution_count": 70,
   "metadata": {},
   "outputs": [],
   "source": [
    "df2 = df[df[\"Customer ID\"].isna()]"
   ]
  },
  {
   "attachments": {},
   "cell_type": "markdown",
   "metadata": {},
   "source": [
    "Sedangkan dataframe selain nan value lalu simpan sebagai `df3`."
   ]
  },
  {
   "cell_type": "code",
   "execution_count": 71,
   "metadata": {},
   "outputs": [],
   "source": [
    "df3 = df[~df[\"Customer ID\"].isna()]"
   ]
  },
  {
   "cell_type": "markdown",
   "metadata": {},
   "source": [
    "Validasi jika Customer ID yang bernilai `<NA>` apakah memiliki invoice terdaftar di `df3` atau tidak. Jika ada, maka nilai `<NA>` akan di gantikan dengan Customer ID yang berkaitan, namun jika sebaliknya, maka asumsi \"mereka adalah customer baru\" terbukti dan bisa digunakan."
   ]
  },
  {
   "cell_type": "code",
   "execution_count": 72,
   "metadata": {},
   "outputs": [
    {
     "data": {
      "text/html": [
       "<div>\n",
       "<style scoped>\n",
       "    .dataframe tbody tr th:only-of-type {\n",
       "        vertical-align: middle;\n",
       "    }\n",
       "\n",
       "    .dataframe tbody tr th {\n",
       "        vertical-align: top;\n",
       "    }\n",
       "\n",
       "    .dataframe thead th {\n",
       "        text-align: right;\n",
       "    }\n",
       "</style>\n",
       "<table border=\"1\" class=\"dataframe\">\n",
       "  <thead>\n",
       "    <tr style=\"text-align: right;\">\n",
       "      <th></th>\n",
       "      <th>Invoice</th>\n",
       "      <th>StockCode_x</th>\n",
       "      <th>Description_x</th>\n",
       "      <th>Quantity_x</th>\n",
       "      <th>InvoiceDate_x</th>\n",
       "      <th>Price_x</th>\n",
       "      <th>Customer ID_x</th>\n",
       "      <th>Country_x</th>\n",
       "      <th>StockCode_y</th>\n",
       "      <th>Description_y</th>\n",
       "      <th>Quantity_y</th>\n",
       "      <th>InvoiceDate_y</th>\n",
       "      <th>Price_y</th>\n",
       "      <th>Customer ID_y</th>\n",
       "      <th>Country_y</th>\n",
       "    </tr>\n",
       "  </thead>\n",
       "  <tbody>\n",
       "  </tbody>\n",
       "</table>\n",
       "</div>"
      ],
      "text/plain": [
       "Empty DataFrame\n",
       "Columns: [Invoice, StockCode_x, Description_x, Quantity_x, InvoiceDate_x, Price_x, Customer ID_x, Country_x, StockCode_y, Description_y, Quantity_y, InvoiceDate_y, Price_y, Customer ID_y, Country_y]\n",
       "Index: []"
      ]
     },
     "execution_count": 72,
     "metadata": {},
     "output_type": "execute_result"
    }
   ],
   "source": [
    "pd.merge(left=df2, right=df3, on='Invoice', how='inner')"
   ]
  },
  {
   "cell_type": "markdown",
   "metadata": {},
   "source": [
    "Kita hitung berapa jumlah nilai unik dari Invoice pada `df2`. Ini berguna untuk memastikan berapa banyak variasi bilangan random yang digunakan."
   ]
  },
  {
   "cell_type": "code",
   "execution_count": 73,
   "metadata": {},
   "outputs": [
    {
     "data": {
      "text/plain": [
       "1540"
      ]
     },
     "execution_count": 73,
     "metadata": {},
     "output_type": "execute_result"
    }
   ],
   "source": [
    "df2.Invoice.nunique()"
   ]
  },
  {
   "attachments": {},
   "cell_type": "markdown",
   "metadata": {},
   "source": [
    "Bangkitkan bilangan random untuk `Customer ID` berbeda sejumlah `Invoice`, dan pastikan satu nilai random untuk satu `Customer ID`."
   ]
  },
  {
   "cell_type": "code",
   "execution_count": 74,
   "metadata": {},
   "outputs": [],
   "source": [
    "new_customer_id = random.sample(range(df['Customer ID'].max(), df['Customer ID'].max() + 10000), 2000)"
   ]
  },
  {
   "cell_type": "markdown",
   "metadata": {},
   "source": [
    "Input kan bilangan acak tersebut ke `df2`."
   ]
  },
  {
   "cell_type": "code",
   "execution_count": 75,
   "metadata": {},
   "outputs": [],
   "source": [
    "id = {}\n",
    "for i, val in enumerate(df2.Invoice.value_counts().index):\n",
    "    if val not in id.keys():\n",
    "        id.update(\n",
    "            {\n",
    "                val: new_customer_id[i]\n",
    "            }\n",
    "        )\n",
    "    else:\n",
    "        continue\n",
    "\n",
    "df2['Customer ID'] = df2.Invoice.apply(lambda x: id[x])"
   ]
  },
  {
   "cell_type": "markdown",
   "metadata": {},
   "source": [
    "Validasi ulang untuk memastikan jumlah unique value untuk Customer ID yang baru sesuai dengan unique value Invoice."
   ]
  },
  {
   "cell_type": "code",
   "execution_count": 76,
   "metadata": {},
   "outputs": [
    {
     "data": {
      "text/plain": [
       "1540"
      ]
     },
     "execution_count": 76,
     "metadata": {},
     "output_type": "execute_result"
    }
   ],
   "source": [
    "df2['Customer ID'].nunique()"
   ]
  },
  {
   "attachments": {},
   "cell_type": "markdown",
   "metadata": {},
   "source": [
    "Gabungkan antara `df2` dengan `df3`, lalu simpan dalam variabel `df_merge`"
   ]
  },
  {
   "cell_type": "code",
   "execution_count": 77,
   "metadata": {},
   "outputs": [],
   "source": [
    "df_merge = pd.concat([df2, df3], axis=0, ignore_index=True)"
   ]
  },
  {
   "attachments": {},
   "cell_type": "markdown",
   "metadata": {},
   "source": [
    "Terakhir cek data duplikat, dan terapkan `drop_duplicates` untuk menghapus salah satu nya:"
   ]
  },
  {
   "cell_type": "code",
   "execution_count": 78,
   "metadata": {},
   "outputs": [
    {
     "name": "stdout",
     "output_type": "stream",
     "text": [
      "Jumlah data duplikat: 5258\n"
     ]
    }
   ],
   "source": [
    "print(f'Jumlah data duplikat: {df_merge[df_merge.duplicated()].shape[0]}')\n",
    "df_merge.drop_duplicates(keep='first', inplace=True, ignore_index=True, )"
   ]
  },
  {
   "attachments": {},
   "cell_type": "markdown",
   "metadata": {},
   "source": [
    "### **Step-3:** `Creating New Attributes`"
   ]
  },
  {
   "attachments": {},
   "cell_type": "markdown",
   "metadata": {},
   "source": [
    "Buat kolom bernama `FirstTransaction` dan isi dengan bulan pertama dari transaksi tiap customer."
   ]
  },
  {
   "cell_type": "code",
   "execution_count": 79,
   "metadata": {},
   "outputs": [
    {
     "data": {
      "text/html": [
       "<div>\n",
       "<style scoped>\n",
       "    .dataframe tbody tr th:only-of-type {\n",
       "        vertical-align: middle;\n",
       "    }\n",
       "\n",
       "    .dataframe tbody tr th {\n",
       "        vertical-align: top;\n",
       "    }\n",
       "\n",
       "    .dataframe thead th {\n",
       "        text-align: right;\n",
       "    }\n",
       "</style>\n",
       "<table border=\"1\" class=\"dataframe\">\n",
       "  <thead>\n",
       "    <tr style=\"text-align: right;\">\n",
       "      <th></th>\n",
       "      <th>Invoice</th>\n",
       "      <th>StockCode</th>\n",
       "      <th>Description</th>\n",
       "      <th>Quantity</th>\n",
       "      <th>InvoiceDate</th>\n",
       "      <th>Price</th>\n",
       "      <th>Customer ID</th>\n",
       "      <th>Country</th>\n",
       "      <th>FirstTransaction</th>\n",
       "      <th>FirstTransactionMonth</th>\n",
       "    </tr>\n",
       "  </thead>\n",
       "  <tbody>\n",
       "    <tr>\n",
       "      <th>6671</th>\n",
       "      <td>538071</td>\n",
       "      <td>21888</td>\n",
       "      <td>BINGO SET</td>\n",
       "      <td>2</td>\n",
       "      <td>2010-12-09 14:09:00</td>\n",
       "      <td>7.62</td>\n",
       "      <td>21716</td>\n",
       "      <td>United Kingdom</td>\n",
       "      <td>2010-12-09 14:09:00</td>\n",
       "      <td>2010-12</td>\n",
       "    </tr>\n",
       "  </tbody>\n",
       "</table>\n",
       "</div>"
      ],
      "text/plain": [
       "     Invoice StockCode Description  Quantity         InvoiceDate  Price  \\\n",
       "6671  538071     21888   BINGO SET         2 2010-12-09 14:09:00   7.62   \n",
       "\n",
       "      Customer ID         Country    FirstTransaction FirstTransactionMonth  \n",
       "6671        21716  United Kingdom 2010-12-09 14:09:00               2010-12  "
      ]
     },
     "execution_count": 79,
     "metadata": {},
     "output_type": "execute_result"
    }
   ],
   "source": [
    "df_merge['FirstTransaction'] = df_merge.groupby('Customer ID')['InvoiceDate'].transform('min')\n",
    "df_merge['FirstTransactionMonth'] = df_merge['FirstTransaction'].dt.to_period('M')\n",
    "df_merge.sample()"
   ]
  },
  {
   "attachments": {},
   "cell_type": "markdown",
   "metadata": {},
   "source": [
    "Hitung total selisih bulan di antara `FirstTransaction` dengan `InvoiceDate`"
   ]
  },
  {
   "cell_type": "code",
   "execution_count": 80,
   "metadata": {},
   "outputs": [
    {
     "data": {
      "text/html": [
       "<div>\n",
       "<style scoped>\n",
       "    .dataframe tbody tr th:only-of-type {\n",
       "        vertical-align: middle;\n",
       "    }\n",
       "\n",
       "    .dataframe tbody tr th {\n",
       "        vertical-align: top;\n",
       "    }\n",
       "\n",
       "    .dataframe thead th {\n",
       "        text-align: right;\n",
       "    }\n",
       "</style>\n",
       "<table border=\"1\" class=\"dataframe\">\n",
       "  <thead>\n",
       "    <tr style=\"text-align: right;\">\n",
       "      <th></th>\n",
       "      <th>Invoice</th>\n",
       "      <th>StockCode</th>\n",
       "      <th>Description</th>\n",
       "      <th>Quantity</th>\n",
       "      <th>InvoiceDate</th>\n",
       "      <th>Price</th>\n",
       "      <th>Customer ID</th>\n",
       "      <th>Country</th>\n",
       "      <th>FirstTransaction</th>\n",
       "      <th>FirstTransactionMonth</th>\n",
       "      <th>PeriodDistance</th>\n",
       "    </tr>\n",
       "  </thead>\n",
       "  <tbody>\n",
       "    <tr>\n",
       "      <th>461392</th>\n",
       "      <td>574684</td>\n",
       "      <td>21094</td>\n",
       "      <td>SET/6 RED SPOTTY PAPER PLATES</td>\n",
       "      <td>12</td>\n",
       "      <td>2011-11-06 12:56:00</td>\n",
       "      <td>0.85</td>\n",
       "      <td>17581</td>\n",
       "      <td>United Kingdom</td>\n",
       "      <td>2010-12-02 14:47:00</td>\n",
       "      <td>2010-12</td>\n",
       "      <td>11</td>\n",
       "    </tr>\n",
       "  </tbody>\n",
       "</table>\n",
       "</div>"
      ],
      "text/plain": [
       "       Invoice StockCode                    Description  Quantity  \\\n",
       "461392  574684     21094  SET/6 RED SPOTTY PAPER PLATES        12   \n",
       "\n",
       "               InvoiceDate  Price  Customer ID         Country  \\\n",
       "461392 2011-11-06 12:56:00   0.85        17581  United Kingdom   \n",
       "\n",
       "          FirstTransaction FirstTransactionMonth  PeriodDistance  \n",
       "461392 2010-12-02 14:47:00               2010-12              11  "
      ]
     },
     "execution_count": 80,
     "metadata": {},
     "output_type": "execute_result"
    }
   ],
   "source": [
    "df_merge['PeriodDistance'] = (df_merge['InvoiceDate'] - df_merge['FirstTransaction']).astype('timedelta64[M]').astype(int)\n",
    "df_merge.sample()"
   ]
  },
  {
   "attachments": {},
   "cell_type": "markdown",
   "metadata": {},
   "source": [
    "Hitung revenue untuk setiap invoice dengan mengalikan `Quantity` dengan `Price`"
   ]
  },
  {
   "cell_type": "code",
   "execution_count": 81,
   "metadata": {},
   "outputs": [
    {
     "data": {
      "text/html": [
       "<div>\n",
       "<style scoped>\n",
       "    .dataframe tbody tr th:only-of-type {\n",
       "        vertical-align: middle;\n",
       "    }\n",
       "\n",
       "    .dataframe tbody tr th {\n",
       "        vertical-align: top;\n",
       "    }\n",
       "\n",
       "    .dataframe thead th {\n",
       "        text-align: right;\n",
       "    }\n",
       "</style>\n",
       "<table border=\"1\" class=\"dataframe\">\n",
       "  <thead>\n",
       "    <tr style=\"text-align: right;\">\n",
       "      <th></th>\n",
       "      <th>Invoice</th>\n",
       "      <th>StockCode</th>\n",
       "      <th>Description</th>\n",
       "      <th>Quantity</th>\n",
       "      <th>InvoiceDate</th>\n",
       "      <th>Price</th>\n",
       "      <th>Customer ID</th>\n",
       "      <th>Country</th>\n",
       "      <th>FirstTransaction</th>\n",
       "      <th>FirstTransactionMonth</th>\n",
       "      <th>PeriodDistance</th>\n",
       "      <th>Revenue</th>\n",
       "    </tr>\n",
       "  </thead>\n",
       "  <tbody>\n",
       "    <tr>\n",
       "      <th>463572</th>\n",
       "      <td>574826</td>\n",
       "      <td>23308</td>\n",
       "      <td>SET OF 60 VINTAGE LEAF CAKE CASES</td>\n",
       "      <td>1</td>\n",
       "      <td>2011-11-07 10:58:00</td>\n",
       "      <td>0.55</td>\n",
       "      <td>15870</td>\n",
       "      <td>United Kingdom</td>\n",
       "      <td>2011-11-07 10:58:00</td>\n",
       "      <td>2011-11</td>\n",
       "      <td>0</td>\n",
       "      <td>0.55</td>\n",
       "    </tr>\n",
       "  </tbody>\n",
       "</table>\n",
       "</div>"
      ],
      "text/plain": [
       "       Invoice StockCode                         Description  Quantity  \\\n",
       "463572  574826     23308  SET OF 60 VINTAGE LEAF CAKE CASES          1   \n",
       "\n",
       "               InvoiceDate  Price  Customer ID         Country  \\\n",
       "463572 2011-11-07 10:58:00   0.55        15870  United Kingdom   \n",
       "\n",
       "          FirstTransaction FirstTransactionMonth  PeriodDistance  Revenue  \n",
       "463572 2011-11-07 10:58:00               2011-11               0     0.55  "
      ]
     },
     "execution_count": 81,
     "metadata": {},
     "output_type": "execute_result"
    }
   ],
   "source": [
    "df_merge['Revenue'] = df_merge['Price'] * df_merge['Quantity']\n",
    "df_merge.sample()"
   ]
  },
  {
   "attachments": {},
   "cell_type": "markdown",
   "metadata": {},
   "source": [
    "### **Q1:** `Retention Rate`"
   ]
  },
  {
   "attachments": {},
   "cell_type": "markdown",
   "metadata": {},
   "source": [
    "Buat pivot table dengan menggunakan kolom `FirstTransactionMonth` dan `PeriodDistance`, kemudian hitung jumlah (distinct) dari `Customer ID`."
   ]
  },
  {
   "cell_type": "code",
   "execution_count": 82,
   "metadata": {},
   "outputs": [],
   "source": [
    "# Pivot table antara transaksi awal vs jarak transaksi\n",
    "cohorts = df_merge.pivot_table(\n",
    "    index='FirstTransactionMonth',\n",
    "    columns='PeriodDistance',\n",
    "    values='Customer ID',\n",
    "    aggfunc='nunique',\n",
    ")\n",
    "\n",
    "# Ubah menjadi bentuk long format\n",
    "cohorts = cohorts.stack().to_frame('Customer ID').reset_index()\n",
    "\n",
    "# Tambahkan kolom persentase\n",
    "max_value = cohorts.groupby('FirstTransactionMonth')['Customer ID'].transform('max')\n",
    "cohorts['Pct Customer'] = cohorts['Customer ID'] / max_value"
   ]
  },
  {
   "attachments": {},
   "cell_type": "markdown",
   "metadata": {},
   "source": [
    "Visualisasikan `cohort retention` menggunakan HeatMap."
   ]
  },
  {
   "cell_type": "code",
   "execution_count": 83,
   "metadata": {},
   "outputs": [
    {
     "data": {
      "text/html": [
       "\n",
       "<style>\n",
       "  #altair-viz-0f57c6dbb04c4f83a78e3e8857829aa8.vega-embed {\n",
       "    width: 100%;\n",
       "    display: flex;\n",
       "  }\n",
       "\n",
       "  #altair-viz-0f57c6dbb04c4f83a78e3e8857829aa8.vega-embed details,\n",
       "  #altair-viz-0f57c6dbb04c4f83a78e3e8857829aa8.vega-embed details summary {\n",
       "    position: relative;\n",
       "  }\n",
       "</style>\n",
       "<div id=\"altair-viz-0f57c6dbb04c4f83a78e3e8857829aa8\"></div>\n",
       "<script type=\"text/javascript\">\n",
       "  var VEGA_DEBUG = (typeof VEGA_DEBUG == \"undefined\") ? {} : VEGA_DEBUG;\n",
       "  (function(spec, embedOpt){\n",
       "    let outputDiv = document.currentScript.previousElementSibling;\n",
       "    if (outputDiv.id !== \"altair-viz-0f57c6dbb04c4f83a78e3e8857829aa8\") {\n",
       "      outputDiv = document.getElementById(\"altair-viz-0f57c6dbb04c4f83a78e3e8857829aa8\");\n",
       "    }\n",
       "    const paths = {\n",
       "      \"vega\": \"https://cdn.jsdelivr.net/npm/vega@5?noext\",\n",
       "      \"vega-lib\": \"https://cdn.jsdelivr.net/npm/vega-lib?noext\",\n",
       "      \"vega-lite\": \"https://cdn.jsdelivr.net/npm/vega-lite@5.8.0?noext\",\n",
       "      \"vega-embed\": \"https://cdn.jsdelivr.net/npm/vega-embed@6?noext\",\n",
       "    };\n",
       "\n",
       "    function maybeLoadScript(lib, version) {\n",
       "      var key = `${lib.replace(\"-\", \"\")}_version`;\n",
       "      return (VEGA_DEBUG[key] == version) ?\n",
       "        Promise.resolve(paths[lib]) :\n",
       "        new Promise(function(resolve, reject) {\n",
       "          var s = document.createElement('script');\n",
       "          document.getElementsByTagName(\"head\")[0].appendChild(s);\n",
       "          s.async = true;\n",
       "          s.onload = () => {\n",
       "            VEGA_DEBUG[key] = version;\n",
       "            return resolve(paths[lib]);\n",
       "          };\n",
       "          s.onerror = () => reject(`Error loading script: ${paths[lib]}`);\n",
       "          s.src = paths[lib];\n",
       "        });\n",
       "    }\n",
       "\n",
       "    function showError(err) {\n",
       "      outputDiv.innerHTML = `<div class=\"error\" style=\"color:red;\">${err}</div>`;\n",
       "      throw err;\n",
       "    }\n",
       "\n",
       "    function displayChart(vegaEmbed) {\n",
       "      vegaEmbed(outputDiv, spec, embedOpt)\n",
       "        .catch(err => showError(`Javascript Error: ${err.message}<br>This usually means there's a typo in your chart specification. See the javascript console for the full traceback.`));\n",
       "    }\n",
       "\n",
       "    if(typeof define === \"function\" && define.amd) {\n",
       "      requirejs.config({paths});\n",
       "      require([\"vega-embed\"], displayChart, err => showError(`Error loading script: ${err.message}`));\n",
       "    } else {\n",
       "      maybeLoadScript(\"vega\", \"5\")\n",
       "        .then(() => maybeLoadScript(\"vega-lite\", \"5.8.0\"))\n",
       "        .then(() => maybeLoadScript(\"vega-embed\", \"6\"))\n",
       "        .catch(showError)\n",
       "        .then(() => displayChart(vegaEmbed));\n",
       "    }\n",
       "  })({\"config\": {\"view\": {\"continuousWidth\": 300, \"continuousHeight\": 300}}, \"layer\": [{\"mark\": {\"type\": \"rect\"}, \"encoding\": {\"color\": {\"field\": \"Pct Customer\", \"legend\": null, \"type\": \"quantitative\"}, \"x\": {\"axis\": {\"labelAngle\": 0}, \"field\": \"PeriodDistance\", \"title\": \"Distance (month)\", \"type\": \"ordinal\"}, \"y\": {\"field\": \"FirstTransactionMonth\", \"title\": \"Cohort\", \"type\": \"ordinal\"}}, \"title\": \"Cohort Analysis - Retention\"}, {\"mark\": {\"type\": \"text\", \"baseline\": \"middle\"}, \"encoding\": {\"color\": {\"condition\": {\"test\": \"(datum['Pct Customer'] === 1.0)\", \"value\": \"white\"}, \"value\": \"black\"}, \"text\": {\"field\": \"Pct Customer\", \"format\": \".2%\", \"type\": \"quantitative\"}, \"x\": {\"axis\": {\"labelAngle\": 0}, \"field\": \"PeriodDistance\", \"title\": \"Distance (month)\", \"type\": \"ordinal\"}, \"y\": {\"field\": \"FirstTransactionMonth\", \"title\": \"Cohort\", \"type\": \"ordinal\"}}, \"title\": \"Cohort Analysis - Retention\"}], \"data\": {\"name\": \"data-11c0eb5c497d0de2d0acc21628ab0d8a\"}, \"height\": 250, \"title\": {\"text\": \"Customer Loyalty Currently Peaks at 42% and Requires Enhancement\", \"anchor\": \"start\", \"font\": \"Calibri\", \"fontSize\": 18, \"offset\": 20, \"subtitle\": \"Monthly Cohorts by Retention Rate (%)\"}, \"width\": 700, \"$schema\": \"https://vega.github.io/schema/vega-lite/v5.8.0.json\", \"datasets\": {\"data-11c0eb5c497d0de2d0acc21628ab0d8a\": [{\"FirstTransactionMonth\": \"2010-12\", \"PeriodDistance\": 0, \"Customer ID\": 1118.0, \"Pct Customer\": 1.0}, {\"FirstTransactionMonth\": \"2010-12\", \"PeriodDistance\": 1, \"Customer ID\": 349.0, \"Pct Customer\": 0.31216457960644006}, {\"FirstTransactionMonth\": \"2010-12\", \"PeriodDistance\": 2, \"Customer ID\": 344.0, \"Pct Customer\": 0.3076923076923077}, {\"FirstTransactionMonth\": \"2010-12\", \"PeriodDistance\": 3, \"Customer ID\": 379.0, \"Pct Customer\": 0.33899821109123435}, {\"FirstTransactionMonth\": \"2010-12\", \"PeriodDistance\": 4, \"Customer ID\": 320.0, \"Pct Customer\": 0.28622540250447226}, {\"FirstTransactionMonth\": \"2010-12\", \"PeriodDistance\": 5, \"Customer ID\": 364.0, \"Pct Customer\": 0.32558139534883723}, {\"FirstTransactionMonth\": \"2010-12\", \"PeriodDistance\": 6, \"Customer ID\": 350.0, \"Pct Customer\": 0.31305903398926654}, {\"FirstTransactionMonth\": \"2010-12\", \"PeriodDistance\": 7, \"Customer ID\": 322.0, \"Pct Customer\": 0.2880143112701252}, {\"FirstTransactionMonth\": \"2010-12\", \"PeriodDistance\": 8, \"Customer ID\": 341.0, \"Pct Customer\": 0.30500894454382826}, {\"FirstTransactionMonth\": \"2010-12\", \"PeriodDistance\": 9, \"Customer ID\": 360.0, \"Pct Customer\": 0.3220035778175313}, {\"FirstTransactionMonth\": \"2010-12\", \"PeriodDistance\": 10, \"Customer ID\": 397.0, \"Pct Customer\": 0.3550983899821109}, {\"FirstTransactionMonth\": \"2010-12\", \"PeriodDistance\": 11, \"Customer ID\": 477.0, \"Pct Customer\": 0.426654740608229}, {\"FirstTransactionMonth\": \"2010-12\", \"PeriodDistance\": 12, \"Customer ID\": 87.0, \"Pct Customer\": 0.0778175313059034}, {\"FirstTransactionMonth\": \"2011-01\", \"PeriodDistance\": 0, \"Customer ID\": 527.0, \"Pct Customer\": 1.0}, {\"FirstTransactionMonth\": \"2011-01\", \"PeriodDistance\": 1, \"Customer ID\": 109.0, \"Pct Customer\": 0.20683111954459202}, {\"FirstTransactionMonth\": \"2011-01\", \"PeriodDistance\": 2, \"Customer ID\": 122.0, \"Pct Customer\": 0.2314990512333966}, {\"FirstTransactionMonth\": \"2011-01\", \"PeriodDistance\": 3, \"Customer ID\": 124.0, \"Pct Customer\": 0.23529411764705882}, {\"FirstTransactionMonth\": \"2011-01\", \"PeriodDistance\": 4, \"Customer ID\": 127.0, \"Pct Customer\": 0.2409867172675522}, {\"FirstTransactionMonth\": \"2011-01\", \"PeriodDistance\": 5, \"Customer ID\": 122.0, \"Pct Customer\": 0.2314990512333966}, {\"FirstTransactionMonth\": \"2011-01\", \"PeriodDistance\": 6, \"Customer ID\": 108.0, \"Pct Customer\": 0.2049335863377609}, {\"FirstTransactionMonth\": \"2011-01\", \"PeriodDistance\": 7, \"Customer ID\": 114.0, \"Pct Customer\": 0.21631878557874762}, {\"FirstTransactionMonth\": \"2011-01\", \"PeriodDistance\": 8, \"Customer ID\": 142.0, \"Pct Customer\": 0.269449715370019}, {\"FirstTransactionMonth\": \"2011-01\", \"PeriodDistance\": 9, \"Customer ID\": 151.0, \"Pct Customer\": 0.286527514231499}, {\"FirstTransactionMonth\": \"2011-01\", \"PeriodDistance\": 10, \"Customer ID\": 115.0, \"Pct Customer\": 0.21821631878557876}, {\"FirstTransactionMonth\": \"2011-01\", \"PeriodDistance\": 11, \"Customer ID\": 4.0, \"Pct Customer\": 0.007590132827324478}, {\"FirstTransactionMonth\": \"2011-02\", \"PeriodDistance\": 0, \"Customer ID\": 492.0, \"Pct Customer\": 1.0}, {\"FirstTransactionMonth\": \"2011-02\", \"PeriodDistance\": 1, \"Customer ID\": 85.0, \"Pct Customer\": 0.17276422764227642}, {\"FirstTransactionMonth\": \"2011-02\", \"PeriodDistance\": 2, \"Customer ID\": 99.0, \"Pct Customer\": 0.20121951219512196}, {\"FirstTransactionMonth\": \"2011-02\", \"PeriodDistance\": 3, \"Customer ID\": 109.0, \"Pct Customer\": 0.22154471544715448}, {\"FirstTransactionMonth\": \"2011-02\", \"PeriodDistance\": 4, \"Customer ID\": 79.0, \"Pct Customer\": 0.16056910569105692}, {\"FirstTransactionMonth\": \"2011-02\", \"PeriodDistance\": 5, \"Customer ID\": 105.0, \"Pct Customer\": 0.21341463414634146}, {\"FirstTransactionMonth\": \"2011-02\", \"PeriodDistance\": 6, \"Customer ID\": 95.0, \"Pct Customer\": 0.19308943089430894}, {\"FirstTransactionMonth\": \"2011-02\", \"PeriodDistance\": 7, \"Customer ID\": 105.0, \"Pct Customer\": 0.21341463414634146}, {\"FirstTransactionMonth\": \"2011-02\", \"PeriodDistance\": 8, \"Customer ID\": 110.0, \"Pct Customer\": 0.22357723577235772}, {\"FirstTransactionMonth\": \"2011-02\", \"PeriodDistance\": 9, \"Customer ID\": 90.0, \"Pct Customer\": 0.18292682926829268}, {\"FirstTransactionMonth\": \"2011-02\", \"PeriodDistance\": 10, \"Customer ID\": 2.0, \"Pct Customer\": 0.0040650406504065045}, {\"FirstTransactionMonth\": \"2011-03\", \"PeriodDistance\": 0, \"Customer ID\": 585.0, \"Pct Customer\": 1.0}, {\"FirstTransactionMonth\": \"2011-03\", \"PeriodDistance\": 1, \"Customer ID\": 85.0, \"Pct Customer\": 0.1452991452991453}, {\"FirstTransactionMonth\": \"2011-03\", \"PeriodDistance\": 2, \"Customer ID\": 108.0, \"Pct Customer\": 0.18461538461538463}, {\"FirstTransactionMonth\": \"2011-03\", \"PeriodDistance\": 3, \"Customer ID\": 102.0, \"Pct Customer\": 0.17435897435897435}, {\"FirstTransactionMonth\": \"2011-03\", \"PeriodDistance\": 4, \"Customer ID\": 84.0, \"Pct Customer\": 0.14358974358974358}, {\"FirstTransactionMonth\": \"2011-03\", \"PeriodDistance\": 5, \"Customer ID\": 95.0, \"Pct Customer\": 0.1623931623931624}, {\"FirstTransactionMonth\": \"2011-03\", \"PeriodDistance\": 6, \"Customer ID\": 107.0, \"Pct Customer\": 0.1829059829059829}, {\"FirstTransactionMonth\": \"2011-03\", \"PeriodDistance\": 7, \"Customer ID\": 115.0, \"Pct Customer\": 0.19658119658119658}, {\"FirstTransactionMonth\": \"2011-03\", \"PeriodDistance\": 8, \"Customer ID\": 95.0, \"Pct Customer\": 0.1623931623931624}, {\"FirstTransactionMonth\": \"2011-03\", \"PeriodDistance\": 9, \"Customer ID\": 14.0, \"Pct Customer\": 0.023931623931623933}, {\"FirstTransactionMonth\": \"2011-04\", \"PeriodDistance\": 0, \"Customer ID\": 397.0, \"Pct Customer\": 1.0}, {\"FirstTransactionMonth\": \"2011-04\", \"PeriodDistance\": 1, \"Customer ID\": 80.0, \"Pct Customer\": 0.20151133501259447}, {\"FirstTransactionMonth\": \"2011-04\", \"PeriodDistance\": 2, \"Customer ID\": 56.0, \"Pct Customer\": 0.14105793450881612}, {\"FirstTransactionMonth\": \"2011-04\", \"PeriodDistance\": 3, \"Customer ID\": 64.0, \"Pct Customer\": 0.16120906801007556}, {\"FirstTransactionMonth\": \"2011-04\", \"PeriodDistance\": 4, \"Customer ID\": 55.0, \"Pct Customer\": 0.1385390428211587}, {\"FirstTransactionMonth\": \"2011-04\", \"PeriodDistance\": 5, \"Customer ID\": 70.0, \"Pct Customer\": 0.17632241813602015}, {\"FirstTransactionMonth\": \"2011-04\", \"PeriodDistance\": 6, \"Customer ID\": 72.0, \"Pct Customer\": 0.181360201511335}, {\"FirstTransactionMonth\": \"2011-04\", \"PeriodDistance\": 7, \"Customer ID\": 69.0, \"Pct Customer\": 0.17380352644836272}, {\"FirstTransactionMonth\": \"2011-04\", \"PeriodDistance\": 8, \"Customer ID\": 7.0, \"Pct Customer\": 0.017632241813602016}, {\"FirstTransactionMonth\": \"2011-05\", \"PeriodDistance\": 0, \"Customer ID\": 419.0, \"Pct Customer\": 1.0}, {\"FirstTransactionMonth\": \"2011-05\", \"PeriodDistance\": 1, \"Customer ID\": 55.0, \"Pct Customer\": 0.13126491646778043}, {\"FirstTransactionMonth\": \"2011-05\", \"PeriodDistance\": 2, \"Customer ID\": 44.0, \"Pct Customer\": 0.10501193317422435}, {\"FirstTransactionMonth\": \"2011-05\", \"PeriodDistance\": 3, \"Customer ID\": 57.0, \"Pct Customer\": 0.1360381861575179}, {\"FirstTransactionMonth\": \"2011-05\", \"PeriodDistance\": 4, \"Customer ID\": 73.0, \"Pct Customer\": 0.17422434367541767}, {\"FirstTransactionMonth\": \"2011-05\", \"PeriodDistance\": 5, \"Customer ID\": 64.0, \"Pct Customer\": 0.15274463007159905}, {\"FirstTransactionMonth\": \"2011-05\", \"PeriodDistance\": 6, \"Customer ID\": 72.0, \"Pct Customer\": 0.1718377088305489}, {\"FirstTransactionMonth\": \"2011-05\", \"PeriodDistance\": 7, \"Customer ID\": 3.0, \"Pct Customer\": 0.007159904534606206}, {\"FirstTransactionMonth\": \"2011-06\", \"PeriodDistance\": 0, \"Customer ID\": 382.0, \"Pct Customer\": 1.0}, {\"FirstTransactionMonth\": \"2011-06\", \"PeriodDistance\": 1, \"Customer ID\": 38.0, \"Pct Customer\": 0.09947643979057591}, {\"FirstTransactionMonth\": \"2011-06\", \"PeriodDistance\": 2, \"Customer ID\": 50.0, \"Pct Customer\": 0.13089005235602094}, {\"FirstTransactionMonth\": \"2011-06\", \"PeriodDistance\": 3, \"Customer ID\": 59.0, \"Pct Customer\": 0.1544502617801047}, {\"FirstTransactionMonth\": \"2011-06\", \"PeriodDistance\": 4, \"Customer ID\": 67.0, \"Pct Customer\": 0.17539267015706805}, {\"FirstTransactionMonth\": \"2011-06\", \"PeriodDistance\": 5, \"Customer ID\": 65.0, \"Pct Customer\": 0.17015706806282724}, {\"FirstTransactionMonth\": \"2011-06\", \"PeriodDistance\": 6, \"Customer ID\": 5.0, \"Pct Customer\": 0.013089005235602094}, {\"FirstTransactionMonth\": \"2011-07\", \"PeriodDistance\": 0, \"Customer ID\": 324.0, \"Pct Customer\": 1.0}, {\"FirstTransactionMonth\": \"2011-07\", \"PeriodDistance\": 1, \"Customer ID\": 35.0, \"Pct Customer\": 0.10802469135802469}, {\"FirstTransactionMonth\": \"2011-07\", \"PeriodDistance\": 2, \"Customer ID\": 41.0, \"Pct Customer\": 0.12654320987654322}, {\"FirstTransactionMonth\": \"2011-07\", \"PeriodDistance\": 3, \"Customer ID\": 44.0, \"Pct Customer\": 0.13580246913580246}, {\"FirstTransactionMonth\": \"2011-07\", \"PeriodDistance\": 4, \"Customer ID\": 46.0, \"Pct Customer\": 0.1419753086419753}, {\"FirstTransactionMonth\": \"2011-07\", \"PeriodDistance\": 5, \"Customer ID\": 1.0, \"Pct Customer\": 0.0030864197530864196}, {\"FirstTransactionMonth\": \"2011-08\", \"PeriodDistance\": 0, \"Customer ID\": 259.0, \"Pct Customer\": 1.0}, {\"FirstTransactionMonth\": \"2011-08\", \"PeriodDistance\": 1, \"Customer ID\": 38.0, \"Pct Customer\": 0.14671814671814673}, {\"FirstTransactionMonth\": \"2011-08\", \"PeriodDistance\": 2, \"Customer ID\": 49.0, \"Pct Customer\": 0.1891891891891892}, {\"FirstTransactionMonth\": \"2011-08\", \"PeriodDistance\": 3, \"Customer ID\": 39.0, \"Pct Customer\": 0.15057915057915058}, {\"FirstTransactionMonth\": \"2011-08\", \"PeriodDistance\": 4, \"Customer ID\": 1.0, \"Pct Customer\": 0.003861003861003861}, {\"FirstTransactionMonth\": \"2011-09\", \"PeriodDistance\": 0, \"Customer ID\": 384.0, \"Pct Customer\": 1.0}, {\"FirstTransactionMonth\": \"2011-09\", \"PeriodDistance\": 1, \"Customer ID\": 89.0, \"Pct Customer\": 0.23177083333333334}, {\"FirstTransactionMonth\": \"2011-09\", \"PeriodDistance\": 2, \"Customer ID\": 75.0, \"Pct Customer\": 0.1953125}, {\"FirstTransactionMonth\": \"2011-09\", \"PeriodDistance\": 3, \"Customer ID\": 4.0, \"Pct Customer\": 0.010416666666666666}, {\"FirstTransactionMonth\": \"2011-10\", \"PeriodDistance\": 0, \"Customer ID\": 489.0, \"Pct Customer\": 1.0}, {\"FirstTransactionMonth\": \"2011-10\", \"PeriodDistance\": 1, \"Customer ID\": 77.0, \"Pct Customer\": 0.1574642126789366}, {\"FirstTransactionMonth\": \"2011-10\", \"PeriodDistance\": 2, \"Customer ID\": 5.0, \"Pct Customer\": 0.010224948875255624}, {\"FirstTransactionMonth\": \"2011-11\", \"PeriodDistance\": 0, \"Customer ID\": 441.0, \"Pct Customer\": 1.0}, {\"FirstTransactionMonth\": \"2011-11\", \"PeriodDistance\": 1, \"Customer ID\": 11.0, \"Pct Customer\": 0.024943310657596373}, {\"FirstTransactionMonth\": \"2011-12\", \"PeriodDistance\": 0, \"Customer ID\": 85.0, \"Pct Customer\": 1.0}]}}, {\"mode\": \"vega-lite\"});\n",
       "</script>"
      ],
      "text/plain": [
       "alt.LayerChart(...)"
      ]
     },
     "execution_count": 83,
     "metadata": {},
     "output_type": "execute_result"
    }
   ],
   "source": [
    "cohorts['FirstTransactionMonth'] = cohorts['FirstTransactionMonth'].astype(str)\n",
    "\n",
    "# Plot dengan heat map\n",
    "heatmap = alt.Chart(cohorts).mark_rect().encode(\n",
    "    x=alt.X('PeriodDistance:O', title='Distance (month)').axis(labelAngle=0),\n",
    "    y=alt.Y('FirstTransactionMonth:O', title='Cohort'),\n",
    "    color=alt.Color('Pct Customer').legend(None),\n",
    ").properties(\n",
    "    width=800,\n",
    "    height=300,\n",
    "    title='Cohort Analysis - Retention'\n",
    ")\n",
    "\n",
    "# Menambahkan text annotations\n",
    "text = heatmap.mark_text(baseline='middle').encode(\n",
    "    text=alt.Text('Pct Customer', format='.2%'),\n",
    "    color=alt.condition(\n",
    "        alt.datum['Pct Customer'] == 1.0,\n",
    "        alt.value('white'),\n",
    "        alt.value('black')\n",
    "    )\n",
    ")\n",
    "\n",
    "# Menambahkan judul\n",
    "(heatmap + text).properties(\n",
    "    title=alt.Title(\n",
    "        \"Customer Loyalty Currently Peaks at 42% and Requires Enhancement\",\n",
    "        subtitle='Monthly Cohorts by Retention Rate (%)',\n",
    "        anchor='start',\n",
    "        font='Calibri',\n",
    "        fontSize=18,\n",
    "        offset=20,\n",
    "    ),\n",
    "    width=700, height=250\n",
    ")"
   ]
  },
  {
   "attachments": {},
   "cell_type": "markdown",
   "metadata": {},
   "source": [
    "___\n",
    "### **Q2:** `Total Revenue Generated`"
   ]
  },
  {
   "cell_type": "markdown",
   "metadata": {},
   "source": [
    "Buat pivot table dengan menggunakan kolom `FirstTransactionMonth` dan `PeriodDistance`, kemudian hitung jumlah dari `Revenue`."
   ]
  },
  {
   "cell_type": "code",
   "execution_count": 84,
   "metadata": {},
   "outputs": [],
   "source": [
    "# Pivot table antara transaksi awal vs jarak transaksi\n",
    "cohorts = df_merge.pivot_table(\n",
    "    index='FirstTransactionMonth',\n",
    "    columns='PeriodDistance',\n",
    "    values='Revenue',\n",
    "    aggfunc='sum',\n",
    ")\n",
    "\n",
    "# Ubah menjadi bentuk long format\n",
    "cohorts = cohorts.stack().to_frame('Revenue').reset_index()"
   ]
  },
  {
   "cell_type": "markdown",
   "metadata": {},
   "source": [
    "Visualisasikan `cohort revenue` menggunakan HeatMap."
   ]
  },
  {
   "cell_type": "code",
   "execution_count": 85,
   "metadata": {},
   "outputs": [
    {
     "data": {
      "text/html": [
       "\n",
       "<style>\n",
       "  #altair-viz-e731a60aedae49fbb02a442a39530080.vega-embed {\n",
       "    width: 100%;\n",
       "    display: flex;\n",
       "  }\n",
       "\n",
       "  #altair-viz-e731a60aedae49fbb02a442a39530080.vega-embed details,\n",
       "  #altair-viz-e731a60aedae49fbb02a442a39530080.vega-embed details summary {\n",
       "    position: relative;\n",
       "  }\n",
       "</style>\n",
       "<div id=\"altair-viz-e731a60aedae49fbb02a442a39530080\"></div>\n",
       "<script type=\"text/javascript\">\n",
       "  var VEGA_DEBUG = (typeof VEGA_DEBUG == \"undefined\") ? {} : VEGA_DEBUG;\n",
       "  (function(spec, embedOpt){\n",
       "    let outputDiv = document.currentScript.previousElementSibling;\n",
       "    if (outputDiv.id !== \"altair-viz-e731a60aedae49fbb02a442a39530080\") {\n",
       "      outputDiv = document.getElementById(\"altair-viz-e731a60aedae49fbb02a442a39530080\");\n",
       "    }\n",
       "    const paths = {\n",
       "      \"vega\": \"https://cdn.jsdelivr.net/npm/vega@5?noext\",\n",
       "      \"vega-lib\": \"https://cdn.jsdelivr.net/npm/vega-lib?noext\",\n",
       "      \"vega-lite\": \"https://cdn.jsdelivr.net/npm/vega-lite@5.8.0?noext\",\n",
       "      \"vega-embed\": \"https://cdn.jsdelivr.net/npm/vega-embed@6?noext\",\n",
       "    };\n",
       "\n",
       "    function maybeLoadScript(lib, version) {\n",
       "      var key = `${lib.replace(\"-\", \"\")}_version`;\n",
       "      return (VEGA_DEBUG[key] == version) ?\n",
       "        Promise.resolve(paths[lib]) :\n",
       "        new Promise(function(resolve, reject) {\n",
       "          var s = document.createElement('script');\n",
       "          document.getElementsByTagName(\"head\")[0].appendChild(s);\n",
       "          s.async = true;\n",
       "          s.onload = () => {\n",
       "            VEGA_DEBUG[key] = version;\n",
       "            return resolve(paths[lib]);\n",
       "          };\n",
       "          s.onerror = () => reject(`Error loading script: ${paths[lib]}`);\n",
       "          s.src = paths[lib];\n",
       "        });\n",
       "    }\n",
       "\n",
       "    function showError(err) {\n",
       "      outputDiv.innerHTML = `<div class=\"error\" style=\"color:red;\">${err}</div>`;\n",
       "      throw err;\n",
       "    }\n",
       "\n",
       "    function displayChart(vegaEmbed) {\n",
       "      vegaEmbed(outputDiv, spec, embedOpt)\n",
       "        .catch(err => showError(`Javascript Error: ${err.message}<br>This usually means there's a typo in your chart specification. See the javascript console for the full traceback.`));\n",
       "    }\n",
       "\n",
       "    if(typeof define === \"function\" && define.amd) {\n",
       "      requirejs.config({paths});\n",
       "      require([\"vega-embed\"], displayChart, err => showError(`Error loading script: ${err.message}`));\n",
       "    } else {\n",
       "      maybeLoadScript(\"vega\", \"5\")\n",
       "        .then(() => maybeLoadScript(\"vega-lite\", \"5.8.0\"))\n",
       "        .then(() => maybeLoadScript(\"vega-embed\", \"6\"))\n",
       "        .catch(showError)\n",
       "        .then(() => displayChart(vegaEmbed));\n",
       "    }\n",
       "  })({\"config\": {\"view\": {\"continuousWidth\": 300, \"continuousHeight\": 300}}, \"layer\": [{\"mark\": {\"type\": \"rect\"}, \"encoding\": {\"color\": {\"field\": \"Revenue\", \"legend\": null, \"type\": \"quantitative\"}, \"x\": {\"axis\": {\"labelAngle\": 0}, \"field\": \"PeriodDistance\", \"title\": \"Distance (month)\", \"type\": \"ordinal\"}, \"y\": {\"field\": \"FirstTransactionMonth\", \"title\": \"Cohort\", \"type\": \"ordinal\"}}, \"title\": \"Cohort Analysis - Revenue\"}, {\"mark\": {\"type\": \"text\", \"baseline\": \"middle\"}, \"encoding\": {\"color\": {\"condition\": {\"test\": \"(datum['Revenue'] > 800000)\", \"value\": \"white\"}, \"value\": \"black\"}, \"text\": {\"field\": \"Revenue\", \"format\": \"$.2s\", \"type\": \"quantitative\"}, \"x\": {\"axis\": {\"labelAngle\": 0}, \"field\": \"PeriodDistance\", \"title\": \"Distance (month)\", \"type\": \"ordinal\"}, \"y\": {\"field\": \"FirstTransactionMonth\", \"title\": \"Cohort\", \"type\": \"ordinal\"}}, \"title\": \"Cohort Analysis - Revenue\"}], \"data\": {\"name\": \"data-fece5a81e6f9507a33063513da515dd3\"}, \"height\": 250, \"title\": {\"text\": \"In December 2011, Revenue Hit its Lowest Point\", \"anchor\": \"start\", \"font\": \"Calibri\", \"fontSize\": 18, \"offset\": 20, \"subtitle\": \"Monthly Cohorts by Revenue (in dollars)\"}, \"width\": 700, \"$schema\": \"https://vega.github.io/schema/vega-lite/v5.8.0.json\", \"datasets\": {\"data-fece5a81e6f9507a33063513da515dd3\": [{\"FirstTransactionMonth\": \"2010-12\", \"PeriodDistance\": 0, \"Revenue\": 941777.93}, {\"FirstTransactionMonth\": \"2010-12\", \"PeriodDistance\": 1, \"Revenue\": 280416.18}, {\"FirstTransactionMonth\": \"2010-12\", \"PeriodDistance\": 2, \"Revenue\": 259022.94}, {\"FirstTransactionMonth\": \"2010-12\", \"PeriodDistance\": 3, \"Revenue\": 326084.69}, {\"FirstTransactionMonth\": \"2010-12\", \"PeriodDistance\": 4, \"Revenue\": 214892.23}, {\"FirstTransactionMonth\": \"2010-12\", \"PeriodDistance\": 5, \"Revenue\": 356640.0}, {\"FirstTransactionMonth\": \"2010-12\", \"PeriodDistance\": 6, \"Revenue\": 317632.26}, {\"FirstTransactionMonth\": \"2010-12\", \"PeriodDistance\": 7, \"Revenue\": 360090.33}, {\"FirstTransactionMonth\": \"2010-12\", \"PeriodDistance\": 8, \"Revenue\": 349931.17}, {\"FirstTransactionMonth\": \"2010-12\", \"PeriodDistance\": 9, \"Revenue\": 505855.94}, {\"FirstTransactionMonth\": \"2010-12\", \"PeriodDistance\": 10, \"Revenue\": 498605.79}, {\"FirstTransactionMonth\": \"2010-12\", \"PeriodDistance\": 11, \"Revenue\": 518118.36}, {\"FirstTransactionMonth\": \"2010-12\", \"PeriodDistance\": 12, \"Revenue\": 76297.78}, {\"FirstTransactionMonth\": \"2011-01\", \"PeriodDistance\": 0, \"Revenue\": 543555.5}, {\"FirstTransactionMonth\": \"2011-01\", \"PeriodDistance\": 1, \"Revenue\": 77126.04}, {\"FirstTransactionMonth\": \"2011-01\", \"PeriodDistance\": 2, \"Revenue\": 54463.15}, {\"FirstTransactionMonth\": \"2011-01\", \"PeriodDistance\": 3, \"Revenue\": 106980.83}, {\"FirstTransactionMonth\": \"2011-01\", \"PeriodDistance\": 4, \"Revenue\": 78145.91}, {\"FirstTransactionMonth\": \"2011-01\", \"PeriodDistance\": 5, \"Revenue\": 88102.31}, {\"FirstTransactionMonth\": \"2011-01\", \"PeriodDistance\": 6, \"Revenue\": 60272.64}, {\"FirstTransactionMonth\": \"2011-01\", \"PeriodDistance\": 7, \"Revenue\": 87323.241}, {\"FirstTransactionMonth\": \"2011-01\", \"PeriodDistance\": 8, \"Revenue\": 106373.63}, {\"FirstTransactionMonth\": \"2011-01\", \"PeriodDistance\": 9, \"Revenue\": 95818.38}, {\"FirstTransactionMonth\": \"2011-01\", \"PeriodDistance\": 10, \"Revenue\": 84983.78}, {\"FirstTransactionMonth\": \"2011-01\", \"PeriodDistance\": 11, \"Revenue\": 6924.79}, {\"FirstTransactionMonth\": \"2011-02\", \"PeriodDistance\": 0, \"Revenue\": 253751.74}, {\"FirstTransactionMonth\": \"2011-02\", \"PeriodDistance\": 1, \"Revenue\": 38056.0}, {\"FirstTransactionMonth\": \"2011-02\", \"PeriodDistance\": 2, \"Revenue\": 44396.98}, {\"FirstTransactionMonth\": \"2011-02\", \"PeriodDistance\": 3, \"Revenue\": 42922.26}, {\"FirstTransactionMonth\": \"2011-02\", \"PeriodDistance\": 4, \"Revenue\": 30744.82}, {\"FirstTransactionMonth\": \"2011-02\", \"PeriodDistance\": 5, \"Revenue\": 44567.53}, {\"FirstTransactionMonth\": \"2011-02\", \"PeriodDistance\": 6, \"Revenue\": 49292.74}, {\"FirstTransactionMonth\": \"2011-02\", \"PeriodDistance\": 7, \"Revenue\": 53748.9}, {\"FirstTransactionMonth\": \"2011-02\", \"PeriodDistance\": 8, \"Revenue\": 65709.14}, {\"FirstTransactionMonth\": \"2011-02\", \"PeriodDistance\": 9, \"Revenue\": 37907.67}, {\"FirstTransactionMonth\": \"2011-02\", \"PeriodDistance\": 10, \"Revenue\": 871.22}, {\"FirstTransactionMonth\": \"2011-03\", \"PeriodDistance\": 0, \"Revenue\": 340054.42}, {\"FirstTransactionMonth\": \"2011-03\", \"PeriodDistance\": 1, \"Revenue\": 34256.2}, {\"FirstTransactionMonth\": \"2011-03\", \"PeriodDistance\": 2, \"Revenue\": 53678.9}, {\"FirstTransactionMonth\": \"2011-03\", \"PeriodDistance\": 3, \"Revenue\": 43685.72}, {\"FirstTransactionMonth\": \"2011-03\", \"PeriodDistance\": 4, \"Revenue\": 45617.77}, {\"FirstTransactionMonth\": \"2011-03\", \"PeriodDistance\": 5, \"Revenue\": 48225.85}, {\"FirstTransactionMonth\": \"2011-03\", \"PeriodDistance\": 6, \"Revenue\": 58758.22}, {\"FirstTransactionMonth\": \"2011-03\", \"PeriodDistance\": 7, \"Revenue\": 78400.91}, {\"FirstTransactionMonth\": \"2011-03\", \"PeriodDistance\": 8, \"Revenue\": 50491.37}, {\"FirstTransactionMonth\": \"2011-03\", \"PeriodDistance\": 9, \"Revenue\": 3315.81}, {\"FirstTransactionMonth\": \"2011-04\", \"PeriodDistance\": 0, \"Revenue\": 199041.391}, {\"FirstTransactionMonth\": \"2011-04\", \"PeriodDistance\": 1, \"Revenue\": 32726.04}, {\"FirstTransactionMonth\": \"2011-04\", \"PeriodDistance\": 2, \"Revenue\": 23502.510000000002}, {\"FirstTransactionMonth\": \"2011-04\", \"PeriodDistance\": 3, \"Revenue\": 23823.49}, {\"FirstTransactionMonth\": \"2011-04\", \"PeriodDistance\": 4, \"Revenue\": 24523.12}, {\"FirstTransactionMonth\": \"2011-04\", \"PeriodDistance\": 5, \"Revenue\": 30339.64}, {\"FirstTransactionMonth\": \"2011-04\", \"PeriodDistance\": 6, \"Revenue\": 35720.23}, {\"FirstTransactionMonth\": \"2011-04\", \"PeriodDistance\": 7, \"Revenue\": 25485.81}, {\"FirstTransactionMonth\": \"2011-04\", \"PeriodDistance\": 8, \"Revenue\": 1951.07}, {\"FirstTransactionMonth\": \"2011-05\", \"PeriodDistance\": 0, \"Revenue\": 231838.6}, {\"FirstTransactionMonth\": \"2011-05\", \"PeriodDistance\": 1, \"Revenue\": 20319.13}, {\"FirstTransactionMonth\": \"2011-05\", \"PeriodDistance\": 2, \"Revenue\": 20534.05}, {\"FirstTransactionMonth\": \"2011-05\", \"PeriodDistance\": 3, \"Revenue\": 20396.0}, {\"FirstTransactionMonth\": \"2011-05\", \"PeriodDistance\": 4, \"Revenue\": 33748.99}, {\"FirstTransactionMonth\": \"2011-05\", \"PeriodDistance\": 5, \"Revenue\": 23554.41}, {\"FirstTransactionMonth\": \"2011-05\", \"PeriodDistance\": 6, \"Revenue\": 371079.85000000003}, {\"FirstTransactionMonth\": \"2011-05\", \"PeriodDistance\": 7, \"Revenue\": 949.57}, {\"FirstTransactionMonth\": \"2011-06\", \"PeriodDistance\": 0, \"Revenue\": 251646.45}, {\"FirstTransactionMonth\": \"2011-06\", \"PeriodDistance\": 1, \"Revenue\": 13557.14}, {\"FirstTransactionMonth\": \"2011-06\", \"PeriodDistance\": 2, \"Revenue\": 16813.65}, {\"FirstTransactionMonth\": \"2011-06\", \"PeriodDistance\": 3, \"Revenue\": 32604.69}, {\"FirstTransactionMonth\": \"2011-06\", \"PeriodDistance\": 4, \"Revenue\": 30652.91}, {\"FirstTransactionMonth\": \"2011-06\", \"PeriodDistance\": 5, \"Revenue\": 33207.65}, {\"FirstTransactionMonth\": \"2011-06\", \"PeriodDistance\": 6, \"Revenue\": 1260.75}, {\"FirstTransactionMonth\": \"2011-07\", \"PeriodDistance\": 0, \"Revenue\": 201922.031}, {\"FirstTransactionMonth\": \"2011-07\", \"PeriodDistance\": 1, \"Revenue\": 12768.29}, {\"FirstTransactionMonth\": \"2011-07\", \"PeriodDistance\": 2, \"Revenue\": 17638.33}, {\"FirstTransactionMonth\": \"2011-07\", \"PeriodDistance\": 3, \"Revenue\": 16330.8}, {\"FirstTransactionMonth\": \"2011-07\", \"PeriodDistance\": 4, \"Revenue\": 16662.48}, {\"FirstTransactionMonth\": \"2011-07\", \"PeriodDistance\": 5, \"Revenue\": 11.8}, {\"FirstTransactionMonth\": \"2011-08\", \"PeriodDistance\": 0, \"Revenue\": 229595.03}, {\"FirstTransactionMonth\": \"2011-08\", \"PeriodDistance\": 1, \"Revenue\": 30406.5}, {\"FirstTransactionMonth\": \"2011-08\", \"PeriodDistance\": 2, \"Revenue\": 58702.229999999996}, {\"FirstTransactionMonth\": \"2011-08\", \"PeriodDistance\": 3, \"Revenue\": 20523.31}, {\"FirstTransactionMonth\": \"2011-08\", \"PeriodDistance\": 4, \"Revenue\": 357.40000000000003}, {\"FirstTransactionMonth\": \"2011-09\", \"PeriodDistance\": 0, \"Revenue\": 285639.121}, {\"FirstTransactionMonth\": \"2011-09\", \"PeriodDistance\": 1, \"Revenue\": 34551.21}, {\"FirstTransactionMonth\": \"2011-09\", \"PeriodDistance\": 2, \"Revenue\": 28753.44}, {\"FirstTransactionMonth\": \"2011-09\", \"PeriodDistance\": 3, \"Revenue\": 1054.29}, {\"FirstTransactionMonth\": \"2011-10\", \"PeriodDistance\": 0, \"Revenue\": 320142.57}, {\"FirstTransactionMonth\": \"2011-10\", \"PeriodDistance\": 1, \"Revenue\": 30828.0}, {\"FirstTransactionMonth\": \"2011-10\", \"PeriodDistance\": 2, \"Revenue\": 1056.29}, {\"FirstTransactionMonth\": \"2011-11\", \"PeriodDistance\": 0, \"Revenue\": 509603.63}, {\"FirstTransactionMonth\": \"2011-11\", \"PeriodDistance\": 1, \"Revenue\": 4531.07}, {\"FirstTransactionMonth\": \"2011-12\", \"PeriodDistance\": 0, \"Revenue\": 177326.32}]}}, {\"mode\": \"vega-lite\"});\n",
       "</script>"
      ],
      "text/plain": [
       "alt.LayerChart(...)"
      ]
     },
     "execution_count": 85,
     "metadata": {},
     "output_type": "execute_result"
    }
   ],
   "source": [
    "cohorts['FirstTransactionMonth'] = cohorts['FirstTransactionMonth'].astype(str)\n",
    "\n",
    "# Plot dengan heat map\n",
    "heatmap = alt.Chart(cohorts).mark_rect().encode(\n",
    "    x=alt.X('PeriodDistance:O', title='Distance (month)').axis(labelAngle=0),\n",
    "    y=alt.Y('FirstTransactionMonth:O', title='Cohort'),\n",
    "    color=alt.Color('Revenue').legend(None),\n",
    ").properties(\n",
    "    width=800,\n",
    "    height=300,\n",
    "    title='Cohort Analysis - Revenue'\n",
    ")\n",
    "\n",
    "# Menambahkan text annotations\n",
    "text = heatmap.mark_text(baseline='middle').encode(\n",
    "    text=alt.Text('Revenue', format='$.2s'),\n",
    "    color=alt.condition(\n",
    "        alt.datum['Revenue'] > 800000,\n",
    "        alt.value('white'),\n",
    "        alt.value('black')\n",
    "    )\n",
    ")\n",
    "\n",
    "# Menambahkan judul\n",
    "(heatmap + text).properties(\n",
    "    title=alt.Title(\n",
    "        \"In December 2011, Revenue Hit its Lowest Point\",\n",
    "        subtitle='Monthly Cohorts by Revenue (in dollars)',\n",
    "        anchor='start',\n",
    "        font='Calibri',\n",
    "        fontSize=18,\n",
    "        offset=20,\n",
    "    ),\n",
    "    width=700, height=250\n",
    ")"
   ]
  },
  {
   "attachments": {},
   "cell_type": "markdown",
   "metadata": {},
   "source": [
    "___\n",
    "### **Q3:** `Total Quantity Sold`"
   ]
  },
  {
   "cell_type": "markdown",
   "metadata": {},
   "source": [
    "Buat pivot table dengan menggunakan kolom `FirstTransactionMonth` dan `PeriodDistance`, kemudian hitung jumlah dari `Quantity`."
   ]
  },
  {
   "cell_type": "code",
   "execution_count": 86,
   "metadata": {},
   "outputs": [],
   "source": [
    "# Pivot table antara transaksi awal vs jarak transaksi\n",
    "cohorts = df_merge.pivot_table(\n",
    "    index='FirstTransactionMonth',\n",
    "    columns='PeriodDistance',\n",
    "    values='Quantity',\n",
    "    aggfunc='sum',\n",
    ")\n",
    "\n",
    "# Ubah menjadi bentuk long format\n",
    "cohorts = cohorts.stack().to_frame('Quantity').reset_index()"
   ]
  },
  {
   "cell_type": "markdown",
   "metadata": {},
   "source": [
    "Visualisasikan `cohort total quantity sold` menggunakan HeatMap."
   ]
  },
  {
   "cell_type": "code",
   "execution_count": 87,
   "metadata": {},
   "outputs": [
    {
     "data": {
      "text/html": [
       "\n",
       "<style>\n",
       "  #altair-viz-b57a690801a14d73a5081fa1e3970144.vega-embed {\n",
       "    width: 100%;\n",
       "    display: flex;\n",
       "  }\n",
       "\n",
       "  #altair-viz-b57a690801a14d73a5081fa1e3970144.vega-embed details,\n",
       "  #altair-viz-b57a690801a14d73a5081fa1e3970144.vega-embed details summary {\n",
       "    position: relative;\n",
       "  }\n",
       "</style>\n",
       "<div id=\"altair-viz-b57a690801a14d73a5081fa1e3970144\"></div>\n",
       "<script type=\"text/javascript\">\n",
       "  var VEGA_DEBUG = (typeof VEGA_DEBUG == \"undefined\") ? {} : VEGA_DEBUG;\n",
       "  (function(spec, embedOpt){\n",
       "    let outputDiv = document.currentScript.previousElementSibling;\n",
       "    if (outputDiv.id !== \"altair-viz-b57a690801a14d73a5081fa1e3970144\") {\n",
       "      outputDiv = document.getElementById(\"altair-viz-b57a690801a14d73a5081fa1e3970144\");\n",
       "    }\n",
       "    const paths = {\n",
       "      \"vega\": \"https://cdn.jsdelivr.net/npm/vega@5?noext\",\n",
       "      \"vega-lib\": \"https://cdn.jsdelivr.net/npm/vega-lib?noext\",\n",
       "      \"vega-lite\": \"https://cdn.jsdelivr.net/npm/vega-lite@5.8.0?noext\",\n",
       "      \"vega-embed\": \"https://cdn.jsdelivr.net/npm/vega-embed@6?noext\",\n",
       "    };\n",
       "\n",
       "    function maybeLoadScript(lib, version) {\n",
       "      var key = `${lib.replace(\"-\", \"\")}_version`;\n",
       "      return (VEGA_DEBUG[key] == version) ?\n",
       "        Promise.resolve(paths[lib]) :\n",
       "        new Promise(function(resolve, reject) {\n",
       "          var s = document.createElement('script');\n",
       "          document.getElementsByTagName(\"head\")[0].appendChild(s);\n",
       "          s.async = true;\n",
       "          s.onload = () => {\n",
       "            VEGA_DEBUG[key] = version;\n",
       "            return resolve(paths[lib]);\n",
       "          };\n",
       "          s.onerror = () => reject(`Error loading script: ${paths[lib]}`);\n",
       "          s.src = paths[lib];\n",
       "        });\n",
       "    }\n",
       "\n",
       "    function showError(err) {\n",
       "      outputDiv.innerHTML = `<div class=\"error\" style=\"color:red;\">${err}</div>`;\n",
       "      throw err;\n",
       "    }\n",
       "\n",
       "    function displayChart(vegaEmbed) {\n",
       "      vegaEmbed(outputDiv, spec, embedOpt)\n",
       "        .catch(err => showError(`Javascript Error: ${err.message}<br>This usually means there's a typo in your chart specification. See the javascript console for the full traceback.`));\n",
       "    }\n",
       "\n",
       "    if(typeof define === \"function\" && define.amd) {\n",
       "      requirejs.config({paths});\n",
       "      require([\"vega-embed\"], displayChart, err => showError(`Error loading script: ${err.message}`));\n",
       "    } else {\n",
       "      maybeLoadScript(\"vega\", \"5\")\n",
       "        .then(() => maybeLoadScript(\"vega-lite\", \"5.8.0\"))\n",
       "        .then(() => maybeLoadScript(\"vega-embed\", \"6\"))\n",
       "        .catch(showError)\n",
       "        .then(() => displayChart(vegaEmbed));\n",
       "    }\n",
       "  })({\"config\": {\"view\": {\"continuousWidth\": 300, \"continuousHeight\": 300}}, \"layer\": [{\"mark\": {\"type\": \"rect\"}, \"encoding\": {\"color\": {\"field\": \"Quantity\", \"legend\": null, \"type\": \"quantitative\"}, \"x\": {\"axis\": {\"labelAngle\": 0}, \"field\": \"PeriodDistance\", \"title\": \"Distance (month)\", \"type\": \"ordinal\"}, \"y\": {\"field\": \"FirstTransactionMonth\", \"title\": \"Cohort\", \"type\": \"ordinal\"}}, \"title\": \"Cohort Analysis - Total Sold Quantity\"}, {\"mark\": {\"type\": \"text\", \"baseline\": \"middle\"}, \"encoding\": {\"color\": {\"condition\": {\"test\": \"(datum['Quantity'] > 200000)\", \"value\": \"white\"}, \"value\": \"black\"}, \"text\": {\"field\": \"Quantity\", \"format\": \".2s\", \"type\": \"quantitative\"}, \"x\": {\"axis\": {\"labelAngle\": 0}, \"field\": \"PeriodDistance\", \"title\": \"Distance (month)\", \"type\": \"ordinal\"}, \"y\": {\"field\": \"FirstTransactionMonth\", \"title\": \"Cohort\", \"type\": \"ordinal\"}}, \"title\": \"Cohort Analysis - Total Sold Quantity\"}], \"data\": {\"name\": \"data-878d0352c686a2c606caf28627bcbb19\"}, \"height\": 250, \"title\": {\"text\": \"Customer Reluctance Towards Purchasing New Products is Increasing\", \"anchor\": \"start\", \"font\": \"Calibri\", \"fontSize\": 18, \"offset\": 20, \"subtitle\": \"Monthly Cohorts by Total Sold Quantity (sales)\"}, \"width\": 700, \"$schema\": \"https://vega.github.io/schema/vega-lite/v5.8.0.json\", \"datasets\": {\"data-878d0352c686a2c606caf28627bcbb19\": [{\"FirstTransactionMonth\": \"2010-12\", \"PeriodDistance\": 0, \"Quantity\": 406798.0}, {\"FirstTransactionMonth\": \"2010-12\", \"PeriodDistance\": 1, \"Quantity\": 155165.0}, {\"FirstTransactionMonth\": \"2010-12\", \"PeriodDistance\": 2, \"Quantity\": 151664.0}, {\"FirstTransactionMonth\": \"2010-12\", \"PeriodDistance\": 3, \"Quantity\": 195393.0}, {\"FirstTransactionMonth\": \"2010-12\", \"PeriodDistance\": 4, \"Quantity\": 139069.0}, {\"FirstTransactionMonth\": \"2010-12\", \"PeriodDistance\": 5, \"Quantity\": 175811.0}, {\"FirstTransactionMonth\": \"2010-12\", \"PeriodDistance\": 6, \"Quantity\": 184605.0}, {\"FirstTransactionMonth\": \"2010-12\", \"PeriodDistance\": 7, \"Quantity\": 216967.0}, {\"FirstTransactionMonth\": \"2010-12\", \"PeriodDistance\": 8, \"Quantity\": 213006.0}, {\"FirstTransactionMonth\": \"2010-12\", \"PeriodDistance\": 9, \"Quantity\": 260323.0}, {\"FirstTransactionMonth\": \"2010-12\", \"PeriodDistance\": 10, \"Quantity\": 277559.0}, {\"FirstTransactionMonth\": \"2010-12\", \"PeriodDistance\": 11, \"Quantity\": 298432.0}, {\"FirstTransactionMonth\": \"2010-12\", \"PeriodDistance\": 12, \"Quantity\": 42315.0}, {\"FirstTransactionMonth\": \"2011-01\", \"PeriodDistance\": 0, \"Quantity\": 312001.0}, {\"FirstTransactionMonth\": \"2011-01\", \"PeriodDistance\": 1, \"Quantity\": 41451.0}, {\"FirstTransactionMonth\": \"2011-01\", \"PeriodDistance\": 2, \"Quantity\": 34047.0}, {\"FirstTransactionMonth\": \"2011-01\", \"PeriodDistance\": 3, \"Quantity\": 53557.0}, {\"FirstTransactionMonth\": \"2011-01\", \"PeriodDistance\": 4, \"Quantity\": 43244.0}, {\"FirstTransactionMonth\": \"2011-01\", \"PeriodDistance\": 5, \"Quantity\": 50061.0}, {\"FirstTransactionMonth\": \"2011-01\", \"PeriodDistance\": 6, \"Quantity\": 39227.0}, {\"FirstTransactionMonth\": \"2011-01\", \"PeriodDistance\": 7, \"Quantity\": 51882.0}, {\"FirstTransactionMonth\": \"2011-01\", \"PeriodDistance\": 8, \"Quantity\": 55297.0}, {\"FirstTransactionMonth\": \"2011-01\", \"PeriodDistance\": 9, \"Quantity\": 47491.0}, {\"FirstTransactionMonth\": \"2011-01\", \"PeriodDistance\": 10, \"Quantity\": 42574.0}, {\"FirstTransactionMonth\": \"2011-01\", \"PeriodDistance\": 11, \"Quantity\": 1884.0}, {\"FirstTransactionMonth\": \"2011-02\", \"PeriodDistance\": 0, \"Quantity\": 123807.0}, {\"FirstTransactionMonth\": \"2011-02\", \"PeriodDistance\": 1, \"Quantity\": 25740.0}, {\"FirstTransactionMonth\": \"2011-02\", \"PeriodDistance\": 2, \"Quantity\": 36143.0}, {\"FirstTransactionMonth\": \"2011-02\", \"PeriodDistance\": 3, \"Quantity\": 27452.0}, {\"FirstTransactionMonth\": \"2011-02\", \"PeriodDistance\": 4, \"Quantity\": 22467.0}, {\"FirstTransactionMonth\": \"2011-02\", \"PeriodDistance\": 5, \"Quantity\": 32213.0}, {\"FirstTransactionMonth\": \"2011-02\", \"PeriodDistance\": 6, \"Quantity\": 29855.0}, {\"FirstTransactionMonth\": \"2011-02\", \"PeriodDistance\": 7, \"Quantity\": 32014.0}, {\"FirstTransactionMonth\": \"2011-02\", \"PeriodDistance\": 8, \"Quantity\": 37739.0}, {\"FirstTransactionMonth\": \"2011-02\", \"PeriodDistance\": 9, \"Quantity\": 20902.0}, {\"FirstTransactionMonth\": \"2011-02\", \"PeriodDistance\": 10, \"Quantity\": 510.0}, {\"FirstTransactionMonth\": \"2011-03\", \"PeriodDistance\": 0, \"Quantity\": 147354.0}, {\"FirstTransactionMonth\": \"2011-03\", \"PeriodDistance\": 1, \"Quantity\": 22512.0}, {\"FirstTransactionMonth\": \"2011-03\", \"PeriodDistance\": 2, \"Quantity\": 29866.0}, {\"FirstTransactionMonth\": \"2011-03\", \"PeriodDistance\": 3, \"Quantity\": 26046.0}, {\"FirstTransactionMonth\": \"2011-03\", \"PeriodDistance\": 4, \"Quantity\": 29633.0}, {\"FirstTransactionMonth\": \"2011-03\", \"PeriodDistance\": 5, \"Quantity\": 32571.0}, {\"FirstTransactionMonth\": \"2011-03\", \"PeriodDistance\": 6, \"Quantity\": 35902.0}, {\"FirstTransactionMonth\": \"2011-03\", \"PeriodDistance\": 7, \"Quantity\": 57258.0}, {\"FirstTransactionMonth\": \"2011-03\", \"PeriodDistance\": 8, \"Quantity\": 32197.0}, {\"FirstTransactionMonth\": \"2011-03\", \"PeriodDistance\": 9, \"Quantity\": 2559.0}, {\"FirstTransactionMonth\": \"2011-04\", \"PeriodDistance\": 0, \"Quantity\": 92722.0}, {\"FirstTransactionMonth\": \"2011-04\", \"PeriodDistance\": 1, \"Quantity\": 16151.0}, {\"FirstTransactionMonth\": \"2011-04\", \"PeriodDistance\": 2, \"Quantity\": 12827.0}, {\"FirstTransactionMonth\": \"2011-04\", \"PeriodDistance\": 3, \"Quantity\": 15557.0}, {\"FirstTransactionMonth\": \"2011-04\", \"PeriodDistance\": 4, \"Quantity\": 14395.0}, {\"FirstTransactionMonth\": \"2011-04\", \"PeriodDistance\": 5, \"Quantity\": 17906.0}, {\"FirstTransactionMonth\": \"2011-04\", \"PeriodDistance\": 6, \"Quantity\": 22993.0}, {\"FirstTransactionMonth\": \"2011-04\", \"PeriodDistance\": 7, \"Quantity\": 15375.0}, {\"FirstTransactionMonth\": \"2011-04\", \"PeriodDistance\": 8, \"Quantity\": 1164.0}, {\"FirstTransactionMonth\": \"2011-05\", \"PeriodDistance\": 0, \"Quantity\": 94422.0}, {\"FirstTransactionMonth\": \"2011-05\", \"PeriodDistance\": 1, \"Quantity\": 12305.0}, {\"FirstTransactionMonth\": \"2011-05\", \"PeriodDistance\": 2, \"Quantity\": 12014.0}, {\"FirstTransactionMonth\": \"2011-05\", \"PeriodDistance\": 3, \"Quantity\": 12558.0}, {\"FirstTransactionMonth\": \"2011-05\", \"PeriodDistance\": 4, \"Quantity\": 22030.0}, {\"FirstTransactionMonth\": \"2011-05\", \"PeriodDistance\": 5, \"Quantity\": 13208.0}, {\"FirstTransactionMonth\": \"2011-05\", \"PeriodDistance\": 6, \"Quantity\": 182895.0}, {\"FirstTransactionMonth\": \"2011-05\", \"PeriodDistance\": 7, \"Quantity\": 732.0}, {\"FirstTransactionMonth\": \"2011-06\", \"PeriodDistance\": 0, \"Quantity\": 92242.0}, {\"FirstTransactionMonth\": \"2011-06\", \"PeriodDistance\": 1, \"Quantity\": 10249.0}, {\"FirstTransactionMonth\": \"2011-06\", \"PeriodDistance\": 2, \"Quantity\": 12469.0}, {\"FirstTransactionMonth\": \"2011-06\", \"PeriodDistance\": 3, \"Quantity\": 18810.0}, {\"FirstTransactionMonth\": \"2011-06\", \"PeriodDistance\": 4, \"Quantity\": 21597.0}, {\"FirstTransactionMonth\": \"2011-06\", \"PeriodDistance\": 5, \"Quantity\": 19571.0}, {\"FirstTransactionMonth\": \"2011-06\", \"PeriodDistance\": 6, \"Quantity\": 1000.0}, {\"FirstTransactionMonth\": \"2011-07\", \"PeriodDistance\": 0, \"Quantity\": 86009.0}, {\"FirstTransactionMonth\": \"2011-07\", \"PeriodDistance\": 1, \"Quantity\": 7462.0}, {\"FirstTransactionMonth\": \"2011-07\", \"PeriodDistance\": 2, \"Quantity\": 11171.0}, {\"FirstTransactionMonth\": \"2011-07\", \"PeriodDistance\": 3, \"Quantity\": 9791.0}, {\"FirstTransactionMonth\": \"2011-07\", \"PeriodDistance\": 4, \"Quantity\": 9488.0}, {\"FirstTransactionMonth\": \"2011-07\", \"PeriodDistance\": 5, \"Quantity\": 4.0}, {\"FirstTransactionMonth\": \"2011-08\", \"PeriodDistance\": 0, \"Quantity\": 76638.0}, {\"FirstTransactionMonth\": \"2011-08\", \"PeriodDistance\": 1, \"Quantity\": 11860.0}, {\"FirstTransactionMonth\": \"2011-08\", \"PeriodDistance\": 2, \"Quantity\": 22649.0}, {\"FirstTransactionMonth\": \"2011-08\", \"PeriodDistance\": 3, \"Quantity\": 8674.0}, {\"FirstTransactionMonth\": \"2011-08\", \"PeriodDistance\": 4, \"Quantity\": 185.0}, {\"FirstTransactionMonth\": \"2011-09\", \"PeriodDistance\": 0, \"Quantity\": 134114.0}, {\"FirstTransactionMonth\": \"2011-09\", \"PeriodDistance\": 1, \"Quantity\": 19072.0}, {\"FirstTransactionMonth\": \"2011-09\", \"PeriodDistance\": 2, \"Quantity\": 17043.0}, {\"FirstTransactionMonth\": \"2011-09\", \"PeriodDistance\": 3, \"Quantity\": 926.0}, {\"FirstTransactionMonth\": \"2011-10\", \"PeriodDistance\": 0, \"Quantity\": 148952.0}, {\"FirstTransactionMonth\": \"2011-10\", \"PeriodDistance\": 1, \"Quantity\": 18239.0}, {\"FirstTransactionMonth\": \"2011-10\", \"PeriodDistance\": 2, \"Quantity\": 809.0}, {\"FirstTransactionMonth\": \"2011-11\", \"PeriodDistance\": 0, \"Quantity\": 179866.0}, {\"FirstTransactionMonth\": \"2011-11\", \"PeriodDistance\": 1, \"Quantity\": 2594.0}, {\"FirstTransactionMonth\": \"2011-12\", \"PeriodDistance\": 0, \"Quantity\": 41629.0}]}}, {\"mode\": \"vega-lite\"});\n",
       "</script>"
      ],
      "text/plain": [
       "alt.LayerChart(...)"
      ]
     },
     "execution_count": 87,
     "metadata": {},
     "output_type": "execute_result"
    }
   ],
   "source": [
    "cohorts['FirstTransactionMonth'] = cohorts['FirstTransactionMonth'].astype(str)\n",
    "\n",
    "# Plot dengan heat map\n",
    "heatmap = alt.Chart(cohorts).mark_rect().encode(\n",
    "    x=alt.X('PeriodDistance:O', title='Distance (month)').axis(labelAngle=0),\n",
    "    y=alt.Y('FirstTransactionMonth:O', title='Cohort'),\n",
    "    color=alt.Color('Quantity').legend(None),\n",
    ").properties(\n",
    "    width=800,\n",
    "    height=300,\n",
    "    title='Cohort Analysis - Total Sold Quantity'\n",
    ")\n",
    "\n",
    "# Menambahkan text annotations\n",
    "text = heatmap.mark_text(baseline='middle').encode(\n",
    "    text=alt.Text('Quantity', format='.2s'),\n",
    "    color=alt.condition(\n",
    "        alt.datum['Quantity'] > 200000,\n",
    "        alt.value('white'),\n",
    "        alt.value('black')\n",
    "    )\n",
    ")\n",
    "\n",
    "# Menambahkan judul\n",
    "(heatmap + text).properties(\n",
    "    title=alt.Title(\n",
    "        \"Customer Reluctance Towards Purchasing New Products is Increasing\",\n",
    "        subtitle='Monthly Cohorts by Total Sold Quantity (sales)',\n",
    "        anchor='start',\n",
    "        font='Calibri',\n",
    "        fontSize=18,\n",
    "        offset=20,\n",
    "    ),\n",
    "    width=700, height=250\n",
    ")"
   ]
  },
  {
   "cell_type": "code",
   "execution_count": null,
   "metadata": {},
   "outputs": [],
   "source": []
  }
 ],
 "metadata": {
  "kernelspec": {
   "display_name": "Python 3",
   "language": "python",
   "name": "python3"
  },
  "language_info": {
   "codemirror_mode": {
    "name": "ipython",
    "version": 3
   },
   "file_extension": ".py",
   "mimetype": "text/x-python",
   "name": "python",
   "nbconvert_exporter": "python",
   "pygments_lexer": "ipython3",
   "version": "3.9.16"
  },
  "orig_nbformat": 4
 },
 "nbformat": 4,
 "nbformat_minor": 2
}
