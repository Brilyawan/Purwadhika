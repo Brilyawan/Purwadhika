{
 "cells": [
  {
   "cell_type": "markdown",
   "metadata": {},
   "source": [
    "## Soal PPT"
   ]
  },
  {
   "cell_type": "code",
   "execution_count": null,
   "metadata": {},
   "outputs": [],
   "source": [
    "# Q1\n",
    "\n",
    "num = 6\n",
    "if num%2 == 0:\n",
    "    print('Genap')\n",
    "else:\n",
    "    print('Ganjil')"
   ]
  },
  {
   "cell_type": "code",
   "execution_count": null,
   "metadata": {},
   "outputs": [],
   "source": [
    "# Q2\n",
    "\n",
    "massa = 67\n",
    "tinggi = 178\n",
    "\n",
    "IMT = massa/(tinggi/100)**2\n",
    "\n",
    "if IMT < 18.5:\n",
    "    label = 'Kurang' \n",
    "elif 18.5 <= IMT <= 24.9:\n",
    "    label = 'Ideal'\n",
    "elif 25.0 <= IMT <= 29.9:\n",
    "    label = 'Berlebih'\n",
    "elif 30.0 <= IMT <= 39.9:\n",
    "    label = 'Sangat Berlebih'\n",
    "else:\n",
    "    label = 'Obesitas'\n",
    "\n",
    "print(f'IMT anda {IMT}, {label.upper()}')"
   ]
  },
  {
   "cell_type": "code",
   "execution_count": null,
   "metadata": {},
   "outputs": [],
   "source": [
    "# Q3\n",
    "\n",
    "star = ''\n",
    "size = 5\n",
    "\n",
    "for i in range(size):\n",
    "    for j in range(size - i):\n",
    "        star += '* '\n",
    "    star += '\\n'\n",
    "\n",
    "for i in range(size - 1):\n",
    "    for j in range(i + 2):\n",
    "        star += '* '\n",
    "    star += '\\n'\n",
    "    \n",
    "print(star) "
   ]
  },
  {
   "cell_type": "markdown",
   "metadata": {},
   "source": [
    "## Soal Notion"
   ]
  },
  {
   "cell_type": "code",
   "execution_count": null,
   "metadata": {},
   "outputs": [],
   "source": [
    "# Q1\n",
    "\n",
    "spam = 'ababaababbbbcccbabcc'\n",
    "word = 'bab'\n",
    "\n",
    "count = 0\n",
    "for i in range(len(spam)):\n",
    "    if spam[i: i+len(word)] == word:\n",
    "        count += 1\n",
    "\n",
    "print(f'\"{word}\" appeared {count} time')"
   ]
  },
  {
   "cell_type": "code",
   "execution_count": null,
   "metadata": {},
   "outputs": [],
   "source": [
    "# Q2\n",
    "\n",
    "spam = 'oOxxX'\n",
    "\n",
    "o = 0\n",
    "x = 0\n",
    "for i in spam:\n",
    "    if i == 'o':\n",
    "        o += 1\n",
    "    elif i == 'x':\n",
    "        x += 1\n",
    "\n",
    "print(x == o)"
   ]
  },
  {
   "cell_type": "code",
   "execution_count": null,
   "metadata": {},
   "outputs": [],
   "source": [
    "# Q3\n",
    "\n",
    "spam = 153\n",
    "\n",
    "val = 0\n",
    "for x in str(spam):\n",
    "    val += int(x)**len(str(spam))\n",
    "\n",
    "if val == spam:\n",
    "    print(f'{spam} is narcissistic number')\n",
    "else:\n",
    "    print(f'not narcissistic number')"
   ]
  },
  {
   "cell_type": "code",
   "execution_count": null,
   "metadata": {},
   "outputs": [],
   "source": [
    "# Q4\n",
    "\n",
    "nums = input('Enter a number (greater than 0): ')\n",
    "\n",
    "for num in range(1, int(nums)+1):\n",
    "    if num%3 == 0 and num%5 == 0:\n",
    "        print('FizzBuzz', end=' ')\n",
    "    elif num%3 == 0:\n",
    "        print('Fizz', end=' ')\n",
    "    elif num%5 == 0: \n",
    "        print('Buzz', end=' ')\n",
    "    else:\n",
    "        print(num, end=' ')"
   ]
  },
  {
   "cell_type": "code",
   "execution_count": null,
   "metadata": {},
   "outputs": [],
   "source": [
    "# Q5\n",
    "\n",
    "text = 'The Fox and fox.'\n",
    "old = 'fox' \n",
    "new = 'dog'\n",
    "\n",
    "i = 0\n",
    "replace = ''\n",
    "while i < len(text):\n",
    "    if text[i: i+len(old)] == old:\n",
    "        replace += new\n",
    "        i += len(old)\n",
    "    else:\n",
    "        replace += text[i]\n",
    "        i += 1\n",
    "\n",
    "print(f'Expected result: {replace}')"
   ]
  },
  {
   "cell_type": "code",
   "execution_count": null,
   "metadata": {},
   "outputs": [],
   "source": [
    "# Q6\n",
    "\n",
    "num = input('Enter a number (greater than 0): ')\n",
    "out = ''\n",
    "\n",
    "num = int(num)\n",
    "out = f'{num} '\n",
    "\n",
    "while num != 1 and num > 0:\n",
    "    if int(num) % 2 == 1:\n",
    "        num = 3 * num + 1\n",
    "    else:\n",
    "        num = num // 2\n",
    "    out += f'{num} '\n",
    "    \n",
    "print(out)"
   ]
  },
  {
   "cell_type": "code",
   "execution_count": null,
   "metadata": {},
   "outputs": [],
   "source": [
    "# Q10\n",
    "\n",
    "num = input('Enter the Nth Fibonacci number you wish to calculate: ')\n",
    "\n",
    "if num.isdecimal() and int(num) != 0:\n",
    "    num = int(num)\n",
    "    if num == 1:\n",
    "        print('0')\n",
    "    elif num == 2:\n",
    "        print('0, 1')\n",
    "    else:\n",
    "        toLastNumber = 0\n",
    "        lastNumber = 1\n",
    "        nFibonaci = 2\n",
    "        print('0, 1, ', end='')\n",
    "\n",
    "        while True:\n",
    "            nextNumber = toLastNumber + lastNumber\n",
    "            nFibonaci += 1\n",
    "            print(nextNumber, end='')\n",
    "\n",
    "            if nFibonaci == num:\n",
    "                break\n",
    "\n",
    "            print(', ', end='')\n",
    "\n",
    "            toLastNumber = lastNumber\n",
    "            lastNumber = nextNumber"
   ]
  },
  {
   "cell_type": "code",
   "execution_count": null,
   "metadata": {},
   "outputs": [],
   "source": [
    "# Q11\n",
    "\n",
    "response = input('Enter the message to hack : ').upper()\n",
    "\n",
    "SYMBOLS = 'ABCDEFGHIJKLMNOPQRSTUVWXYZ'\n",
    "for key in range(len(SYMBOLS)):\n",
    "    out = ''\n",
    "    for char in response:\n",
    "        if char in SYMBOLS:\n",
    "            idx = SYMBOLS.find(char)\n",
    "            idx -= key\n",
    "\n",
    "            if idx < 0:\n",
    "                idx += len(SYMBOLS)\n",
    "            \n",
    "            out += SYMBOLS[idx]\n",
    "        else:\n",
    "            out += char\n",
    "\n",
    "    print(f'Key #{key}: {out}')"
   ]
  }
 ],
 "metadata": {
  "kernelspec": {
   "display_name": "Python 3",
   "language": "python",
   "name": "python3"
  },
  "language_info": {
   "codemirror_mode": {
    "name": "ipython",
    "version": 3
   },
   "file_extension": ".py",
   "mimetype": "text/x-python",
   "name": "python",
   "nbconvert_exporter": "python",
   "pygments_lexer": "ipython3",
   "version": "3.9.16"
  }
 },
 "nbformat": 4,
 "nbformat_minor": 2
}
