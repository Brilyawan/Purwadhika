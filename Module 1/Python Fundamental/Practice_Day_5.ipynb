{
 "cells": [
  {
   "cell_type": "markdown",
   "metadata": {},
   "source": [
    "## Soal PPT"
   ]
  },
  {
   "cell_type": "code",
   "execution_count": 58,
   "metadata": {},
   "outputs": [
    {
     "name": "stdout",
     "output_type": "stream",
     "text": [
      "Kesukaan Film kalian yang sama sebesar 60.0%\n"
     ]
    }
   ],
   "source": [
    "# Q1\n",
    "\n",
    "movie1 = {'avengers', 'hulk', 'iron man 3', 'wonder woman', 'batman'}\n",
    "movie2 = {'avengers', 'hulk', 'iron man 2', 'superman', 'wonder woman'}\n",
    "\n",
    "movieIntersection = movie1.intersection(movie2)\n",
    "print(\"Kesukaan Film kalian yang sama sebesar {}%\".format((len(movieIntersection)/len(movie1)) * 100))"
   ]
  },
  {
   "cell_type": "markdown",
   "metadata": {},
   "source": [
    "## Soal Notion"
   ]
  },
  {
   "cell_type": "code",
   "execution_count": 3,
   "metadata": {},
   "outputs": [
    {
     "name": "stdout",
     "output_type": "stream",
     "text": [
      "Inventory:\n",
      "45 gold coin\n",
      "1 rope\n",
      "1 dagger\n",
      "1 ruby\n",
      "Total 48\n"
     ]
    }
   ],
   "source": [
    "# Q1\n",
    "\n",
    "inventory = {'gold coin': 42, 'rope': 1}\n",
    "dragonLoot = ['gold coin', 'dagger', 'gold coin', 'gold coin', 'ruby']\n",
    "\n",
    "def addToInventory(inventory, addedItems):\n",
    "    for item in addedItems:\n",
    "        if item in inventory.keys():\n",
    "            inventory[item] += 1\n",
    "        else:\n",
    "            inventory[item] = 1\n",
    "    \n",
    "    print('Inventory:')\n",
    "    for key, value in inventory.items():\n",
    "        print(f'{value} {key}')\n",
    "\n",
    "    print(f'Total: {sum(inventory.values())}')\n",
    "\n",
    "addToInventory(inventory, dragonLoot)"
   ]
  },
  {
   "cell_type": "code",
   "execution_count": 6,
   "metadata": {},
   "outputs": [
    {
     "name": "stdout",
     "output_type": "stream",
     "text": [
      "repeating char: r\n",
      "Non-repeating char: 1\n"
     ]
    }
   ],
   "source": [
    "# Q2\n",
    "\n",
    "text = \"123PurwadhikaHeroesHeroes\"\n",
    "def repeatingCount(text):\n",
    "    d = {}\n",
    "    for char in text:\n",
    "        if char in d.keys():\n",
    "            d[char] += 1\n",
    "        else:\n",
    "            d[char] = 1\n",
    "\n",
    "    repeating = None\n",
    "    for char in d.keys():\n",
    "        if d[char] > 1:\n",
    "            repeating = char\n",
    "            print(f'repeating char: {repeating}')\n",
    "            break\n",
    "\n",
    "    nonRepeating = None\n",
    "    for char in d.keys():\n",
    "        if d[char] == 1:\n",
    "            nonRepeating = char\n",
    "            print(f'Non-repeating char: {nonRepeating}')\n",
    "            break\n",
    "\n",
    "repeatingCount(text)"
   ]
  },
  {
   "cell_type": "code",
   "execution_count": 12,
   "metadata": {},
   "outputs": [],
   "source": [
    "# Q3\n",
    "\n",
    "def check(text):\n",
    "    d = {'A':0, 'I':0, 'U':0, 'E':0, 'O':0}\n",
    "\n",
    "    for char in text:\n",
    "        char = char.upper()\n",
    "        if char in d:\n",
    "            d[char] += 1\n",
    "\n",
    "    if 0 in d.values():\n",
    "        return False\n",
    "    else:\n",
    "        return True\n",
    "\n",
    "assert check('sEEquOiaL') == True\n",
    "assert check('Squ0iaL') == False\n",
    "assert check('') == False"
   ]
  },
  {
   "cell_type": "code",
   "execution_count": 43,
   "metadata": {},
   "outputs": [],
   "source": [
    "# Q4\n",
    "\n",
    "def cekHeterogram(text):\n",
    "    d = {}\n",
    "    for char in text:\n",
    "        if char.isalpha() != True:\n",
    "            continue\n",
    "        if char in d.keys():\n",
    "            d[char] += 1\n",
    "        else:\n",
    "            d[char] = 1\n",
    "    \n",
    "    flag = None   \n",
    "    for val in d.values():\n",
    "        if val > 1: \n",
    "            flag = False\n",
    "            break\n",
    "    else:\n",
    "        flag = True\n",
    "    \n",
    "    return flag\n",
    "        \n",
    "assert cekHeterogram('purwadhika jogja') == False\n",
    "assert cekHeterogram('jcds 0210') == True\n",
    "assert cekHeterogram('  ') == True"
   ]
  },
  {
   "cell_type": "code",
   "execution_count": 57,
   "metadata": {},
   "outputs": [],
   "source": [
    "# Q5\n",
    "\n",
    "def convertInteger(nums):\n",
    "    d = {0:'0', 1:'1', 2:'2', 3:'3', 4:'4', 5:'5', 6:'6', 7:'7', 8:'8', 9:'9'}\n",
    "    \n",
    "    if nums == 0:\n",
    "        return '0'\n",
    "    \n",
    "    isNegative = None\n",
    "    if nums > 0:\n",
    "        isNegative = False\n",
    "    else:\n",
    "        nums = -nums\n",
    "        isNegative = True\n",
    "\n",
    "    strNum = ''\n",
    "    while nums > 0:\n",
    "        digit = nums % 10\n",
    "        strNum = d[digit] + strNum\n",
    "        nums //= 10 \n",
    "\n",
    "    if isNegative:\n",
    "        return '-' + strNum\n",
    "    else:\n",
    "        return strNum\n",
    "\n",
    "assert convertInteger(0) == '0'\n",
    "assert convertInteger(150) == '150'\n",
    "assert convertInteger(1935) == '1935'\n",
    "assert convertInteger(-1234) == '-1234'"
   ]
  }
 ],
 "metadata": {
  "kernelspec": {
   "display_name": "Python 3",
   "language": "python",
   "name": "python3"
  },
  "language_info": {
   "codemirror_mode": {
    "name": "ipython",
    "version": 3
   },
   "file_extension": ".py",
   "mimetype": "text/x-python",
   "name": "python",
   "nbconvert_exporter": "python",
   "pygments_lexer": "ipython3",
   "version": "3.9.16"
  }
 },
 "nbformat": 4,
 "nbformat_minor": 2
}
