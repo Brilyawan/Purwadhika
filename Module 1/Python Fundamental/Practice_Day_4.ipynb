{
 "cells": [
  {
   "cell_type": "markdown",
   "metadata": {},
   "source": [
    "## Soal PPT"
   ]
  },
  {
   "cell_type": "code",
   "execution_count": 5,
   "metadata": {},
   "outputs": [
    {
     "name": "stdout",
     "output_type": "stream",
     "text": [
      "Maksimum 89 dan minimum 1\n"
     ]
    }
   ],
   "source": [
    "# Q1\n",
    "\n",
    "nums = [41, 5, 1, 3, 89, 32]\n",
    "minIdx = 0\n",
    "maxIdx = 0\n",
    "\n",
    "for idx, num in enumerate(nums):\n",
    "    if num >= nums[maxIdx]:\n",
    "        maxIdx = idx\n",
    "    elif num <= nums[minIdx]:\n",
    "        minIdx = idx\n",
    "\n",
    "print(f'Maksimum {nums[maxIdx]} dan minimum {nums[minIdx]}')"
   ]
  },
  {
   "cell_type": "code",
   "execution_count": 18,
   "metadata": {},
   "outputs": [
    {
     "data": {
      "text/plain": [
       "[1, 3, 5, 32, 41, 89]"
      ]
     },
     "execution_count": 18,
     "metadata": {},
     "output_type": "execute_result"
    }
   ],
   "source": [
    "# Q2\n",
    "\n",
    "nums = [41, 5, 1, 3, 89, 32]\n",
    "\n",
    "for i in range(len(nums)):\n",
    "    for j in range(len(nums)-1):\n",
    "        if nums[i] < nums[j]:\n",
    "            nums[i], nums[j] = nums[j], nums[i]\n",
    "\n",
    "nums"
   ]
  },
  {
   "cell_type": "markdown",
   "metadata": {},
   "source": [
    "## Soal Notion"
   ]
  },
  {
   "cell_type": "code",
   "execution_count": 1,
   "metadata": {},
   "outputs": [],
   "source": [
    "# Q1\n",
    "\n",
    "def getSmallest(nums):\n",
    "    if len(nums) == 0:\n",
    "        return None\n",
    "    \n",
    "    smallest = nums[0]\n",
    "    for num in nums:\n",
    "        if num < smallest:\n",
    "            smallest = num \n",
    "\n",
    "    return smallest\n",
    "\n",
    "assert getSmallest([1, 2, 3]) == 1\n",
    "assert getSmallest([3, 2, 1]) == 1\n",
    "assert getSmallest([28, 25, 42, 2, 28]) == 2\n",
    "assert getSmallest([1]) == 1\n",
    "assert getSmallest([]) == None"
   ]
  },
  {
   "cell_type": "code",
   "execution_count": 2,
   "metadata": {},
   "outputs": [],
   "source": [
    "# Q2\n",
    "nums = [2, 7, 11, 15] \n",
    "target = 9\n",
    "\n",
    "def findIndex(nums, target):\n",
    "    output = []\n",
    "    for i, num in enumerate(nums):\n",
    "        if target - num in nums:\n",
    "            output.append(i)\n",
    "\n",
    "    return tuple(output)\n",
    "\n",
    "assert findIndex([2, 7, 11, 15], 9) == (0, 1)"
   ]
  },
  {
   "cell_type": "code",
   "execution_count": 3,
   "metadata": {},
   "outputs": [],
   "source": [
    "# Q3\n",
    "\n",
    "def sortTuple(nums):\n",
    "    nums = list(nums)\n",
    "    for i in range(len(nums)):\n",
    "        for j in range(len(nums)-1):\n",
    "            if nums[i][-1] < nums[j][-1]:\n",
    "                nums[i], nums[j] = nums[j], nums[i]\n",
    "\n",
    "    return tuple(nums)\n",
    "\n",
    "assert sortTuple((('a', 1), ('b', 3), ('c', 5), ('d', 2))) == (('a', 1), ('d', 2), ('b', 3), ('c', 5))"
   ]
  },
  {
   "cell_type": "code",
   "execution_count": 14,
   "metadata": {},
   "outputs": [],
   "source": [
    "# Q4\n",
    "\n",
    "def addList(l1, l2):\n",
    "    out1 = ''\n",
    "    for i in l1[::-1]:\n",
    "        out1 += str(i)\n",
    "\n",
    "    out2 = ''\n",
    "    for j in l2[::-1]:\n",
    "        out2 += str(j)\n",
    "    \n",
    "    SUM = str(int(out1) + int(out2))\n",
    "    OUT = [int(i) for i in SUM]\n",
    "\n",
    "    return tuple(OUT[::-1])\n",
    "\n",
    "assert addList([2, 4, 3], [5, 6, 4]) == (7, 0, 8)"
   ]
  },
  {
   "cell_type": "code",
   "execution_count": 28,
   "metadata": {},
   "outputs": [],
   "source": [
    "# Q5\n",
    "\n",
    "def mergeTwoLists(l1, l2):\n",
    "    i, j = 0, 0\n",
    "    \n",
    "    out = []\n",
    "    while i < len(l1) and j < len(l2):\n",
    "        if l1[i] < l2[j]:\n",
    "            out.append(l1[i])\n",
    "            i += 1\n",
    "        else:\n",
    "            out.append(l2[j])\n",
    "            j += 1\n",
    "\n",
    "    if j < len(l2):\n",
    "        for indeks in range(j, len(l2)):\n",
    "            out.append(l2[indeks])\n",
    "\n",
    "    if i < len(l1):\n",
    "        for indeks in range(i, len(l1)):\n",
    "            out.append(l1[indeks])\n",
    "\n",
    "    return out\n",
    "\n",
    "assert mergeTwoLists([1, 3, 6], [5, 7, 8, 9]) == [1, 3, 5, 6, 7, 8, 9]\n",
    "assert mergeTwoLists([4, 5], [1, 2, 3]) == [1, 2, 3, 4, 5]\n",
    "assert mergeTwoLists([2, 2, 2], [2, 2, 2]) == [2, 2, 2, 2, 2, 2]\n",
    "assert mergeTwoLists([], [1, 2, 3]) == [1, 2, 3]"
   ]
  },
  {
   "cell_type": "code",
   "execution_count": 51,
   "metadata": {},
   "outputs": [],
   "source": [
    "# Q6\n",
    "\n",
    "def insertList(l1, l2):\n",
    "    for num in l1:\n",
    "        if num[1] < l2[0]:\n",
    "            a = num\n",
    "        elif num[0] > l2[1]:\n",
    "            c = num\n",
    "        else:\n",
    "            l2[0] = min(num[0], l2[0])\n",
    "            l2[1] = max(num[1], l2[1])\n",
    "\n",
    "    return [a] + [l2] + [c]\n",
    "\n",
    "assert insertList([[1, 2], [3, 5], [6, 7], [8, 10], [12, 16]] , [4, 8]) == [[1, 2], [3, 10], [12, 16]]"
   ]
  }
 ],
 "metadata": {
  "kernelspec": {
   "display_name": "Python 3",
   "language": "python",
   "name": "python3"
  },
  "language_info": {
   "codemirror_mode": {
    "name": "ipython",
    "version": 3
   },
   "file_extension": ".py",
   "mimetype": "text/x-python",
   "name": "python",
   "nbconvert_exporter": "python",
   "pygments_lexer": "ipython3",
   "version": "3.9.16"
  }
 },
 "nbformat": 4,
 "nbformat_minor": 2
}
